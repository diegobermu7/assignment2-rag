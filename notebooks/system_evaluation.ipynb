{
 "cells": [
  {
   "cell_type": "code",
   "execution_count": null,
   "id": "8bf427bb",
   "metadata": {},
   "outputs": [],
   "source": [
    "## AI Usage Log\n",
    "\"\"\"\n",
    "- **Tool**: ChatGPT 5.0\n",
    "- **Purpose**: \n",
    "    Assistance to create the RAG pipelines and evaluation\n",
    "    Assistance debugging pipeline problems\n",
    "    Code Documentation (Help Developing the README)\n",
    "- **Input**:\n",
    "    You are a code assistant. Your task is to crate a version of the README file \n",
    "    for this project, it might include at least these items:\n",
    "        setup instructions\n",
    "        Inline code comments explaining complex logic \n",
    "        Configuration files with parameter explanations \n",
    "        Error handling and logging throughout\n",
    "- **Output Usage**: I first read the entire code proposed by the AI, and contrast that \n",
    "    against my current implementation or the steps I followed until that point.\n",
    "    Based on how accurate the code was, I incorporate those functions, one at a time,\n",
    "    and then test it to ensure a correct setting.\n",
    "- **Verification**: I ran tests with a low number of samples to asses how the proposed code\n",
    "    was working.\n",
    "\"\"\"\n"
   ]
  },
  {
   "cell_type": "code",
   "execution_count": 12,
   "id": "57a25a47",
   "metadata": {},
   "outputs": [
    {
     "data": {
      "text/plain": [
       "(PosixPath('/Users/diegoalejandrobermudezsierra/Desktop/CMU/Courses/Third Semester/Mini 1/Application of NLX/HW/assignment2-rag/data/processed/passages.csv'),\n",
       " PosixPath('/Users/diegoalejandrobermudezsierra/Desktop/CMU/Courses/Third Semester/Mini 1/Application of NLX/HW/assignment2-rag/data/evaluation/test_dataset.csv'),\n",
       " PosixPath('/Users/diegoalejandrobermudezsierra/Desktop/CMU/Courses/Third Semester/Mini 1/Application of NLX/HW/assignment2-rag/results'),\n",
       " 'rag_wikipedia_mini.db')"
      ]
     },
     "execution_count": 12,
     "metadata": {},
     "output_type": "execute_result"
    }
   ],
   "source": [
    "# Make project root importable from inside notebooks/\n",
    "import os\n",
    "import sys\n",
    "import pathlib\n",
    "import numpy as np\n",
    "import pandas as pd\n",
    "from argparse import Namespace\n",
    "\n",
    "PROJECT_ROOT = pathlib.Path.cwd().parent              # notebooks/.. -> project root\n",
    "SRC_DIR = PROJECT_ROOT / \"src\"\n",
    "(SRC_DIR / \"__init__.py\").touch(exist_ok=True)        # ensure src is a package\n",
    "if str(PROJECT_ROOT) not in sys.path:\n",
    "    sys.path.insert(0, str(PROJECT_ROOT))\n",
    "\n",
    "import src.evaluation as evalmod\n",
    "from src.utils import DEFAULT_SYSTEM_PROMPT\n",
    "from src import naive_rag, utils, enhanced_rag \n",
    "import src.ragas_evaluation as ragas_evaluation \n",
    "\n",
    "# Quiet tokenizers warning; force Milvus Lite (avoid server env vars)\n",
    "os.environ[\"TOKENIZERS_PARALLELISM\"] = \"false\"\n",
    "for v in [\"MILVUS_URI\",\"MILVUS_HOST\",\"MILVUS_ADDRESS\",\"MILVUS_PORT\"]:\n",
    "    os.environ.pop(v, None)\n",
    "\n",
    "# Define common paths (adjust if needed)\n",
    "PASSAGES = PROJECT_ROOT / \"data\" / \"processed\" / \"passages.csv\"\n",
    "QUERIES  = PROJECT_ROOT / \"data\" / \"evaluation\" / \"test_dataset.csv\"\n",
    "OUTDIR   = PROJECT_ROOT / \"results\"\n",
    "DBFILE   =\"rag_wikipedia_mini.db\"\n",
    "\n",
    "PASSAGES, QUERIES, OUTDIR, DBFILE"
   ]
  },
  {
   "cell_type": "code",
   "execution_count": 2,
   "id": "fcfd4fb1",
   "metadata": {},
   "outputs": [
    {
     "name": "stdout",
     "output_type": "stream",
     "text": [
      "Milvus Lite OK: /Users/diegoalejandrobermudezsierra/Desktop/CMU/Courses/Third Semester/Mini 1/Application of NLX/HW/assignment2-rag/notebooks/rag_wikipedia_mini.db\n"
     ]
    }
   ],
   "source": [
    "from pymilvus import MilvusClient\n",
    "import os\n",
    "abs_db = os.path.abspath(str(DBFILE))\n",
    "for v in (\"MILVUS_URI\",\"MILVUS_HOST\",\"MILVUS_ADDRESS\",\"MILVUS_PORT\"):\n",
    "    os.environ.pop(v, None)\n",
    "\n",
    "# should succeed on 2.6.2\n",
    "c = MilvusClient(\"rag_wikipedia_mini.db\")\n",
    "print(\"Milvus Lite OK:\", abs_db)"
   ]
  },
  {
   "cell_type": "markdown",
   "id": "0363caa6",
   "metadata": {},
   "source": [
    "\n",
    "## Step 2: Preliminary Exploration of Results\n"
   ]
  },
  {
   "cell_type": "code",
   "execution_count": 3,
   "id": "d5c83d36",
   "metadata": {},
   "outputs": [
    {
     "name": "stderr",
     "output_type": "stream",
     "text": [
      "[2025-10-03 05:47:46,531] [INFO] Loaded passages: 3114\n",
      "[2025-10-03 05:47:46,531] [INFO] Encoding 3114 passages with sentence-transformers/all-MiniLM-L6-v2 ...\n"
     ]
    },
    {
     "data": {
      "application/vnd.jupyter.widget-view+json": {
       "model_id": "e7919862f38240efb26dffe97c389371",
       "version_major": 2,
       "version_minor": 0
      },
      "text/plain": [
       "Batches:   0%|          | 0/25 [00:00<?, ?it/s]"
      ]
     },
     "metadata": {},
     "output_type": "display_data"
    },
    {
     "name": "stderr",
     "output_type": "stream",
     "text": [
      "[2025-10-03 05:47:54,178] [INFO] Embeddings shape: (3114, 384)\n",
      "[2025-10-03 05:47:55,101] [INFO] Loaded queries: 100\n"
     ]
    },
    {
     "name": "stdout",
     "output_type": "stream",
     "text": [
      "Entity count: 3114\n",
      "Collection schema: {'collection_name': 'rag_mini', 'auto_id': False, 'num_shards': 0, 'description': 'RAG passages (id, passage, embedding)', 'fields': [{'field_id': 100, 'name': 'id', 'description': '', 'type': <DataType.INT64: 5>, 'params': {}, 'is_primary': True}, {'field_id': 101, 'name': 'passage', 'description': '', 'type': <DataType.VARCHAR: 21>, 'params': {'max_length': 4096}}, {'field_id': 102, 'name': 'embedding', 'description': '', 'type': <DataType.FLOAT_VECTOR: 101>, 'params': {'dim': 384}}], 'functions': [], 'aliases': [], 'collection_id': 0, 'consistency_level': 0, 'properties': {}, 'num_partitions': 0, 'enable_dynamic_field': True}\n"
     ]
    },
    {
     "name": "stderr",
     "output_type": "stream",
     "text": [
      "The following generation flags are not valid and may be ignored: ['temperature']. Set `TRANSFORMERS_VERBOSITY=info` for more details.\n",
      "100%|██████████| 100/100 [00:00<00:00, 911805.22it/s]\n",
      "[2025-10-03 05:48:12,668] [INFO] Wrote results to ../results/naive_results.json\n"
     ]
    },
    {
     "name": "stdout",
     "output_type": "stream",
     "text": [
      "Wrote: /Users/diegoalejandrobermudezsierra/Desktop/CMU/Courses/Third Semester/Mini 1/Application of NLX/HW/assignment2-rag/results/naive_results.json\n"
     ]
    }
   ],
   "source": [
    "# Small run: top-1 context, first 5 queries\n",
    "args = Namespace(\n",
    "    passages_uri=str(PASSAGES),\n",
    "    queries_uri=str(QUERIES),\n",
    "    embed_model=\"sentence-transformers/all-MiniLM-L6-v2\",\n",
    "    gen_model=\"google/flan-t5-base\",\n",
    "    embed_batch_size=128,\n",
    "    top_k=1,\n",
    "    max_new_tokens=128,\n",
    "    temperature=0.0,\n",
    "    max_queries=100,    \n",
    "    output_file=\"naive_results.json\",\n",
    "    seed=42,\n",
    "    milvus_db_path=str(DBFILE),\n",
    "    milvus_collection=\"rag_mini\",\n",
    "    milvus_drop=True,  \n",
    "    milvus_index_type=\"IVF_FLAT\",\n",
    "    milvus_metric=\"IP\",\n",
    "    prompt=DEFAULT_SYSTEM_PROMPT\n",
    ")\n",
    "\n",
    "naive_rag.run(args)\n",
    "\n",
    "RESULTS_PATH = OUTDIR / \"naive_results.json\"\n",
    "print(\"Wrote:\", RESULTS_PATH)"
   ]
  },
  {
   "cell_type": "markdown",
   "id": "bef561f1",
   "metadata": {},
   "source": [
    "## Step 3: Evaluation I"
   ]
  },
  {
   "cell_type": "code",
   "execution_count": 4,
   "id": "5c28f235",
   "metadata": {},
   "outputs": [
    {
     "name": "stderr",
     "output_type": "stream",
     "text": [
      "[2025-10-03 05:48:12,803] [INFO] Loaded passages: 3114\n",
      "[2025-10-03 05:48:12,803] [INFO] Encoding 3114 passages with sentence-transformers/all-MiniLM-L6-v2 ...\n"
     ]
    },
    {
     "data": {
      "application/vnd.jupyter.widget-view+json": {
       "model_id": "fc558777243e4fbeb0403bcfceec2026",
       "version_major": 2,
       "version_minor": 0
      },
      "text/plain": [
       "Batches:   0%|          | 0/25 [00:00<?, ?it/s]"
      ]
     },
     "metadata": {},
     "output_type": "display_data"
    },
    {
     "name": "stderr",
     "output_type": "stream",
     "text": [
      "[2025-10-03 05:48:19,275] [INFO] Embeddings shape: (3114, 384)\n",
      "[2025-10-03 05:48:20,162] [INFO] Loaded queries: 200\n"
     ]
    },
    {
     "name": "stdout",
     "output_type": "stream",
     "text": [
      "Entity count: 3114\n",
      "Collection schema: {'collection_name': 'rag_mini', 'auto_id': False, 'num_shards': 0, 'description': 'RAG passages (id, passage, embedding)', 'fields': [{'field_id': 100, 'name': 'id', 'description': '', 'type': <DataType.INT64: 5>, 'params': {}, 'is_primary': True}, {'field_id': 101, 'name': 'passage', 'description': '', 'type': <DataType.VARCHAR: 21>, 'params': {'max_length': 4096}}, {'field_id': 102, 'name': 'embedding', 'description': '', 'type': <DataType.FLOAT_VECTOR: 101>, 'params': {'dim': 384}}], 'functions': [], 'aliases': [], 'collection_id': 0, 'consistency_level': 0, 'properties': {}, 'num_partitions': 0, 'enable_dynamic_field': True}\n"
     ]
    },
    {
     "name": "stderr",
     "output_type": "stream",
     "text": [
      "100%|██████████| 200/200 [00:00<00:00, 1005828.30it/s]\n",
      "[2025-10-03 05:48:56,073] [INFO] Wrote results to ../results/naive_results_baseline.json\n"
     ]
    },
    {
     "name": "stdout",
     "output_type": "stream",
     "text": [
      "Wrote: /Users/diegoalejandrobermudezsierra/Desktop/CMU/Courses/Third Semester/Mini 1/Application of NLX/HW/assignment2-rag/results/naive_results_baseline.json\n"
     ]
    }
   ],
   "source": [
    "args = Namespace(\n",
    "    passages_uri=str(PASSAGES),\n",
    "    queries_uri=str(QUERIES),\n",
    "    embed_model=\"sentence-transformers/all-MiniLM-L6-v2\",\n",
    "    gen_model=\"google/flan-t5-base\",\n",
    "    embed_batch_size=128,\n",
    "    top_k=1,\n",
    "    max_new_tokens=128,\n",
    "    temperature=0.0,\n",
    "    max_queries=200,    \n",
    "    output_file=\"naive_results_baseline.json\",\n",
    "    seed=42,\n",
    "    milvus_db_path=str(DBFILE),\n",
    "    milvus_collection=\"rag_mini\",\n",
    "    milvus_drop=True,  \n",
    "    milvus_index_type=\"IVF_FLAT\",\n",
    "    milvus_metric=\"IP\",\n",
    "    prompt=DEFAULT_SYSTEM_PROMPT\n",
    ")\n",
    "\n",
    "naive_rag.run(args)\n",
    "\n",
    "RESULTS_PATH = OUTDIR / \"naive_results_baseline.json\"\n",
    "print(\"Wrote:\", RESULTS_PATH)"
   ]
  },
  {
   "cell_type": "code",
   "execution_count": 5,
   "id": "4c98e822",
   "metadata": {},
   "outputs": [
    {
     "name": "stdout",
     "output_type": "stream",
     "text": [
      "Rows: 200\n"
     ]
    },
    {
     "data": {
      "text/html": [
       "<div>\n",
       "<style scoped>\n",
       "    .dataframe tbody tr th:only-of-type {\n",
       "        vertical-align: middle;\n",
       "    }\n",
       "\n",
       "    .dataframe tbody tr th {\n",
       "        vertical-align: top;\n",
       "    }\n",
       "\n",
       "    .dataframe thead th {\n",
       "        text-align: right;\n",
       "    }\n",
       "</style>\n",
       "<table border=\"1\" class=\"dataframe\">\n",
       "  <thead>\n",
       "    <tr style=\"text-align: right;\">\n",
       "      <th></th>\n",
       "      <th>qid</th>\n",
       "      <th>question</th>\n",
       "      <th>prediction</th>\n",
       "      <th>gold</th>\n",
       "      <th>context_ids</th>\n",
       "      <th>top1_pid</th>\n",
       "      <th>pid</th>\n",
       "      <th>context_text</th>\n",
       "    </tr>\n",
       "  </thead>\n",
       "  <tbody>\n",
       "    <tr>\n",
       "      <th>0</th>\n",
       "      <td>0</td>\n",
       "      <td>Was Abraham Lincoln the sixteenth President of...</td>\n",
       "      <td>[285]</td>\n",
       "      <td>yes</td>\n",
       "      <td>[285]</td>\n",
       "      <td>285</td>\n",
       "      <td>285.0</td>\n",
       "      <td>Lincoln was just seven years old when, in 1816...</td>\n",
       "    </tr>\n",
       "    <tr>\n",
       "      <th>1</th>\n",
       "      <td>2</td>\n",
       "      <td>Did Lincoln sign the National Banking Act of 1...</td>\n",
       "      <td>Yes.</td>\n",
       "      <td>yes</td>\n",
       "      <td>[357]</td>\n",
       "      <td>357</td>\n",
       "      <td>357.0</td>\n",
       "      <td>Lincoln's second inauguration on March 4, 1865...</td>\n",
       "    </tr>\n",
       "    <tr>\n",
       "      <th>2</th>\n",
       "      <td>4</td>\n",
       "      <td>Did his mother die of pneumonia?</td>\n",
       "      <td>No.</td>\n",
       "      <td>no</td>\n",
       "      <td>[259]</td>\n",
       "      <td>259</td>\n",
       "      <td>259.0</td>\n",
       "      <td>T. S. Eliot described him during this phase of...</td>\n",
       "    </tr>\n",
       "  </tbody>\n",
       "</table>\n",
       "</div>"
      ],
      "text/plain": [
       "   qid                                           question prediction gold  \\\n",
       "0    0  Was Abraham Lincoln the sixteenth President of...      [285]  yes   \n",
       "1    2  Did Lincoln sign the National Banking Act of 1...       Yes.  yes   \n",
       "2    4                   Did his mother die of pneumonia?        No.   no   \n",
       "\n",
       "  context_ids  top1_pid    pid  \\\n",
       "0       [285]       285  285.0   \n",
       "1       [357]       357  357.0   \n",
       "2       [259]       259  259.0   \n",
       "\n",
       "                                        context_text  \n",
       "0  Lincoln was just seven years old when, in 1816...  \n",
       "1  Lincoln's second inauguration on March 4, 1865...  \n",
       "2  T. S. Eliot described him during this phase of...  "
      ]
     },
     "execution_count": 5,
     "metadata": {},
     "output_type": "execute_result"
    }
   ],
   "source": [
    "RESULTS_PATH = OUTDIR / \"naive_results_baseline.json\"\n",
    "records = evalmod.load_results(str(RESULTS_PATH))\n",
    "base_df = pd.DataFrame(records)\n",
    "\n",
    "base_df[\"top1_pid\"] = base_df[\"context_ids\"].apply(lambda x: x[0] if isinstance(x, list) and len(x)>0 else None)\n",
    "\n",
    "passages_df = pd.read_csv(PASSAGES)[[\"id\",\"passage\"]].rename(columns={\"id\":\"pid\"})\n",
    "df = base_df.merge(passages_df, how=\"left\", left_on=\"top1_pid\", right_on=\"pid\")\n",
    "df.rename(columns={\"passage\":\"context_text\"}, inplace=True)\n",
    "\n",
    "print(\"Rows:\", len(df))\n",
    "df.head(3)"
   ]
  },
  {
   "cell_type": "code",
   "execution_count": 6,
   "id": "bebc591a",
   "metadata": {},
   "outputs": [],
   "source": [
    "prompt_instruction = (\n",
    "    \"Role: Grounded QA assistant.\\n\"\n",
    "    \"Policy:\\n\"\n",
    "    \"  • Use ONLY the text in <context> — do not infer or add outside facts.\\n\"\n",
    "    \"  • If the answer is not in <context>, reply exactly: I don't know.\\n\"\n",
    "    \"  • Prefer verbatim entity names, numbers, and dates from <context>.\\n\"\n",
    "    \"  • Keep answers concise (≤ 35 words) and neutral.\\n\"\n",
    "    \"Output format:\\n\"\n",
    "    \"  Answer: <your answer>\\n\"\n",
    "    \"  Citations: [<passage_ids>]\\n\"\n",
    ")\n",
    "prompt_cot = (\n",
    "    \"Role: Grounded QA assistant.\\n\"\n",
    "    \"Policy:\\n\"\n",
    "    \"  • Use ONLY the text in <context>. If insufficient, say: I don't know.\\n\"\n",
    "    \"  • First extract 1–2 short evidence snippets with their [id].\\n\"\n",
    "    \"  • Then give a FINAL answer in ≤ 30 words; no hedging.\\n\"\n",
    "    \"Output format:\\n\"\n",
    "    \"  Evidence:\\n\"\n",
    "    \"    - [<id>] \\\"<≤12-word quote>\\\"\\n\"\n",
    "    \"    - [<id>] \\\"<≤12-word quote>\\\" (optional)\\n\"\n",
    "    \"  Final: <your answer>\\n\"\n",
    "    \"  Citations: [<passage_ids>]\\n\"\n",
    ")\n",
    "\n",
    "\n",
    "prompt_persona = (\n",
    "    \"You are a senior Wikipedia fact-checker.\\n\"\n",
    "    \"Style: precise, encyclopedic, and terse; no speculation or filler.\\n\"\n",
    "    \"Grounding rules:\\n\"\n",
    "    \"  • Answer strictly from <context>; otherwise say: I don't know.\\n\"\n",
    "    \"  • Preserve canonical names/labels; include units and dates as written.\\n\"\n",
    "    \"  • Prefer a single definitive sentence; lists only when the question asks for them.\\n\"\n",
    "    \"Output format:\\n\"\n",
    "    \"  Answer: <your answer>\\n\"\n",
    "    \"  Citations: [<passage_ids>]\\n\"\n",
    ")\n",
    "\n",
    "prompt_strategies = {\n",
    "    \"instruction\": prompt_instruction,\n",
    "    \"cot\":         prompt_cot,\n",
    "    \"persona\":     prompt_persona,\n",
    "}"
   ]
  },
  {
   "cell_type": "code",
   "execution_count": 7,
   "id": "cee61b6d",
   "metadata": {},
   "outputs": [
    {
     "name": "stderr",
     "output_type": "stream",
     "text": [
      "[2025-10-03 05:48:56,248] [INFO] Loaded passages: 3114\n",
      "[2025-10-03 05:48:56,248] [INFO] Encoding 3114 passages with sentence-transformers/all-MiniLM-L6-v2 ...\n"
     ]
    },
    {
     "data": {
      "application/vnd.jupyter.widget-view+json": {
       "model_id": "8a8f3017b5da4cfe8cf85739905570ad",
       "version_major": 2,
       "version_minor": 0
      },
      "text/plain": [
       "Batches:   0%|          | 0/25 [00:00<?, ?it/s]"
      ]
     },
     "metadata": {},
     "output_type": "display_data"
    },
    {
     "name": "stderr",
     "output_type": "stream",
     "text": [
      "[2025-10-03 05:49:02,751] [INFO] Embeddings shape: (3114, 384)\n",
      "[2025-10-03 05:49:03,655] [INFO] Loaded queries: 200\n"
     ]
    },
    {
     "name": "stdout",
     "output_type": "stream",
     "text": [
      "Entity count: 3114\n",
      "Collection schema: {'collection_name': 'rag_mini', 'auto_id': False, 'num_shards': 0, 'description': 'RAG passages (id, passage, embedding)', 'fields': [{'field_id': 100, 'name': 'id', 'description': '', 'type': <DataType.INT64: 5>, 'params': {}, 'is_primary': True}, {'field_id': 101, 'name': 'passage', 'description': '', 'type': <DataType.VARCHAR: 21>, 'params': {'max_length': 4096}}, {'field_id': 102, 'name': 'embedding', 'description': '', 'type': <DataType.FLOAT_VECTOR: 101>, 'params': {'dim': 384}}], 'functions': [], 'aliases': [], 'collection_id': 0, 'consistency_level': 0, 'properties': {}, 'num_partitions': 0, 'enable_dynamic_field': True}\n"
     ]
    },
    {
     "name": "stderr",
     "output_type": "stream",
     "text": [
      "100%|██████████| 200/200 [00:00<00:00, 999834.09it/s]\n",
      "[2025-10-03 05:49:39,853] [INFO] Wrote results to ../results/naive_results_instruction.json\n",
      "[2025-10-03 05:49:39,856] [INFO] N=200 | F1=0.443[0.378,0.508] | unknown_rate=0.155\n",
      "[2025-10-03 05:49:39,870] [INFO] HF SQuAD | EM=37.00% | F1=44.37%\n",
      "[2025-10-03 05:49:39,872] [INFO] Appended to ../results/comparison_analysis.csv: {'tag': 'top1_instruction', 'n': 200, 'f1_mean': 0.4428235916748713, 'unknown_rate': 0.155, 'f1_lo': 0.3780875183444191, 'f1_hi': 0.5075596650053235, 'em_mean': 0.37, 'hf_f1': 0.443734456997173}\n",
      "[2025-10-03 05:49:40,004] [INFO] Loaded passages: 3114\n",
      "[2025-10-03 05:49:40,004] [INFO] Encoding 3114 passages with sentence-transformers/all-MiniLM-L6-v2 ...\n"
     ]
    },
    {
     "data": {
      "application/vnd.jupyter.widget-view+json": {
       "model_id": "b908b97ff3ed4c87ae9ff65c132aa1d4",
       "version_major": 2,
       "version_minor": 0
      },
      "text/plain": [
       "Batches:   0%|          | 0/25 [00:00<?, ?it/s]"
      ]
     },
     "metadata": {},
     "output_type": "display_data"
    },
    {
     "name": "stderr",
     "output_type": "stream",
     "text": [
      "[2025-10-03 05:49:46,713] [INFO] Embeddings shape: (3114, 384)\n",
      "[2025-10-03 05:49:47,633] [INFO] Loaded queries: 200\n"
     ]
    },
    {
     "name": "stdout",
     "output_type": "stream",
     "text": [
      "Entity count: 3114\n",
      "Collection schema: {'collection_name': 'rag_mini', 'auto_id': False, 'num_shards': 0, 'description': 'RAG passages (id, passage, embedding)', 'fields': [{'field_id': 100, 'name': 'id', 'description': '', 'type': <DataType.INT64: 5>, 'params': {}, 'is_primary': True}, {'field_id': 101, 'name': 'passage', 'description': '', 'type': <DataType.VARCHAR: 21>, 'params': {'max_length': 4096}}, {'field_id': 102, 'name': 'embedding', 'description': '', 'type': <DataType.FLOAT_VECTOR: 101>, 'params': {'dim': 384}}], 'functions': [], 'aliases': [], 'collection_id': 0, 'consistency_level': 0, 'properties': {}, 'num_partitions': 0, 'enable_dynamic_field': True}\n"
     ]
    },
    {
     "name": "stderr",
     "output_type": "stream",
     "text": [
      "100%|██████████| 200/200 [00:00<00:00, 1086607.25it/s]\n",
      "[2025-10-03 05:50:26,295] [INFO] Wrote results to ../results/naive_results_cot.json\n",
      "[2025-10-03 05:50:26,299] [INFO] N=200 | F1=0.489[0.424,0.554] | unknown_rate=0.020\n",
      "[2025-10-03 05:50:26,311] [INFO] HF SQuAD | EM=41.50% | F1=49.01%\n",
      "[2025-10-03 05:50:26,315] [INFO] Appended to ../results/comparison_analysis.csv: {'tag': 'top1_cot', 'n': 200, 'f1_mean': 0.48915347435255335, 'unknown_rate': 0.02, 'f1_lo': 0.4241258003847635, 'f1_hi': 0.5541811483203432, 'em_mean': 0.415, 'hf_f1': 0.4900643396748817}\n",
      "[2025-10-03 05:50:26,435] [INFO] Loaded passages: 3114\n",
      "[2025-10-03 05:50:26,435] [INFO] Encoding 3114 passages with sentence-transformers/all-MiniLM-L6-v2 ...\n"
     ]
    },
    {
     "data": {
      "application/vnd.jupyter.widget-view+json": {
       "model_id": "aab5d2896e834894b3ad886767a4e96f",
       "version_major": 2,
       "version_minor": 0
      },
      "text/plain": [
       "Batches:   0%|          | 0/25 [00:00<?, ?it/s]"
      ]
     },
     "metadata": {},
     "output_type": "display_data"
    },
    {
     "name": "stderr",
     "output_type": "stream",
     "text": [
      "[2025-10-03 05:50:33,105] [INFO] Embeddings shape: (3114, 384)\n",
      "[2025-10-03 05:50:34,089] [INFO] Loaded queries: 200\n"
     ]
    },
    {
     "name": "stdout",
     "output_type": "stream",
     "text": [
      "Entity count: 3114\n",
      "Collection schema: {'collection_name': 'rag_mini', 'auto_id': False, 'num_shards': 0, 'description': 'RAG passages (id, passage, embedding)', 'fields': [{'field_id': 100, 'name': 'id', 'description': '', 'type': <DataType.INT64: 5>, 'params': {}, 'is_primary': True}, {'field_id': 101, 'name': 'passage', 'description': '', 'type': <DataType.VARCHAR: 21>, 'params': {'max_length': 4096}}, {'field_id': 102, 'name': 'embedding', 'description': '', 'type': <DataType.FLOAT_VECTOR: 101>, 'params': {'dim': 384}}], 'functions': [], 'aliases': [], 'collection_id': 0, 'consistency_level': 0, 'properties': {}, 'num_partitions': 0, 'enable_dynamic_field': True}\n"
     ]
    },
    {
     "name": "stderr",
     "output_type": "stream",
     "text": [
      "100%|██████████| 200/200 [00:00<00:00, 1082401.03it/s]\n",
      "[2025-10-03 05:51:10,592] [INFO] Wrote results to ../results/naive_results_persona.json\n",
      "[2025-10-03 05:51:10,596] [INFO] N=200 | F1=0.497[0.432,0.563] | unknown_rate=0.055\n",
      "[2025-10-03 05:51:10,607] [INFO] HF SQuAD | EM=42.50% | F1=49.84%\n",
      "[2025-10-03 05:51:10,609] [INFO] Appended to ../results/comparison_analysis.csv: {'tag': 'top1_persona', 'n': 200, 'f1_mean': 0.4974510934001717, 'unknown_rate': 0.055, 'f1_lo': 0.43215458236585164, 'f1_hi': 0.5627476044344917, 'em_mean': 0.425, 'hf_f1': 0.49836195872250066}\n"
     ]
    }
   ],
   "source": [
    "for strat in [\"instruction\",\"cot\",\"persona\"]:\n",
    "\n",
    "    args = Namespace(\n",
    "        passages_uri=str(PASSAGES),\n",
    "        queries_uri=str(QUERIES),\n",
    "        embed_model=\"sentence-transformers/all-MiniLM-L6-v2\",\n",
    "        gen_model=\"google/flan-t5-base\",\n",
    "        embed_batch_size=128,\n",
    "        top_k=1,\n",
    "        max_new_tokens=128,\n",
    "        temperature=0.0,\n",
    "        max_queries=200,    \n",
    "        output_file=f\"naive_results_{strat}.json\",\n",
    "        seed=42,\n",
    "        milvus_db_path=str(DBFILE),\n",
    "        milvus_collection=\"rag_mini\",\n",
    "        milvus_drop=True,  \n",
    "        milvus_index_type=\"IVF_FLAT\",\n",
    "        milvus_metric=\"IP\",\n",
    "        prompt=prompt_strategies[strat]\n",
    "    )\n",
    "\n",
    "\n",
    "\n",
    "    naive_rag.run(args)\n",
    "\n",
    "    evalmod.evaluate_once(\n",
    "        results_path=str(OUTDIR / f\"naive_results_{strat}.json\"),\n",
    "        tag=f\"top1_{strat}\"\n",
    "    )\n",
    "    "
   ]
  },
  {
   "cell_type": "markdown",
   "id": "a4d2e95f",
   "metadata": {},
   "source": [
    "## Step 4: Experimentation"
   ]
  },
  {
   "cell_type": "code",
   "execution_count": 9,
   "id": "66f8ee8f",
   "metadata": {},
   "outputs": [
    {
     "name": "stderr",
     "output_type": "stream",
     "text": [
      "[2025-10-03 05:54:24,079] [INFO] Loaded passages: 3114\n",
      "[2025-10-03 05:54:24,079] [INFO] Encoding 3114 passages with sentence-transformers/all-MiniLM-L6-v2 ...\n"
     ]
    },
    {
     "data": {
      "application/vnd.jupyter.widget-view+json": {
       "model_id": "0681ffc7d33a4c899ea9ab9be06d0397",
       "version_major": 2,
       "version_minor": 0
      },
      "text/plain": [
       "Batches:   0%|          | 0/1038 [00:00<?, ?it/s]"
      ]
     },
     "metadata": {},
     "output_type": "display_data"
    },
    {
     "name": "stderr",
     "output_type": "stream",
     "text": [
      "[2025-10-03 05:54:39,349] [INFO] Embeddings shape: (3114, 384)\n",
      "[2025-10-03 05:54:40,267] [INFO] Loaded queries: 200\n"
     ]
    },
    {
     "name": "stdout",
     "output_type": "stream",
     "text": [
      "Entity count: 3114\n",
      "Collection schema: {'collection_name': 'rag_mini', 'auto_id': False, 'num_shards': 0, 'description': 'RAG passages (id, passage, embedding)', 'fields': [{'field_id': 100, 'name': 'id', 'description': '', 'type': <DataType.INT64: 5>, 'params': {}, 'is_primary': True}, {'field_id': 101, 'name': 'passage', 'description': '', 'type': <DataType.VARCHAR: 21>, 'params': {'max_length': 4096}}, {'field_id': 102, 'name': 'embedding', 'description': '', 'type': <DataType.FLOAT_VECTOR: 101>, 'params': {'dim': 384}}], 'functions': [], 'aliases': [], 'collection_id': 0, 'consistency_level': 0, 'properties': {}, 'num_partitions': 0, 'enable_dynamic_field': True}\n"
     ]
    },
    {
     "name": "stderr",
     "output_type": "stream",
     "text": [
      "100%|██████████| 200/200 [00:00<00:00, 885808.66it/s]\n",
      "[2025-10-03 05:55:18,398] [INFO] Wrote results to ../results/naive_results_3_emb_256_instruction.json\n",
      "[2025-10-03 05:55:18,402] [INFO] N=200 | F1=0.443[0.378,0.508] | unknown_rate=0.155\n",
      "[2025-10-03 05:55:18,416] [INFO] HF SQuAD | EM=37.00% | F1=44.37%\n",
      "[2025-10-03 05:55:18,418] [INFO] Appended to ../results/comparison_analysis.csv: {'tag': 'top_3_emb_256_instruction', 'n': 200, 'f1_mean': 0.4428235916748713, 'unknown_rate': 0.155, 'f1_lo': 0.3780875183444191, 'f1_hi': 0.5075596650053235, 'em_mean': 0.37, 'hf_f1': 0.443734456997173}\n",
      "[2025-10-03 05:55:18,557] [INFO] Loaded passages: 3114\n",
      "[2025-10-03 05:55:18,558] [INFO] Encoding 3114 passages with sentence-transformers/all-MiniLM-L6-v2 ...\n"
     ]
    },
    {
     "data": {
      "application/vnd.jupyter.widget-view+json": {
       "model_id": "8671f3e6990d401e85d6052bb4139fd3",
       "version_major": 2,
       "version_minor": 0
      },
      "text/plain": [
       "Batches:   0%|          | 0/1038 [00:00<?, ?it/s]"
      ]
     },
     "metadata": {},
     "output_type": "display_data"
    },
    {
     "name": "stderr",
     "output_type": "stream",
     "text": [
      "[2025-10-03 05:55:33,101] [INFO] Embeddings shape: (3114, 384)\n",
      "[2025-10-03 05:55:34,021] [INFO] Loaded queries: 200\n"
     ]
    },
    {
     "name": "stdout",
     "output_type": "stream",
     "text": [
      "Entity count: 3114\n",
      "Collection schema: {'collection_name': 'rag_mini', 'auto_id': False, 'num_shards': 0, 'description': 'RAG passages (id, passage, embedding)', 'fields': [{'field_id': 100, 'name': 'id', 'description': '', 'type': <DataType.INT64: 5>, 'params': {}, 'is_primary': True}, {'field_id': 101, 'name': 'passage', 'description': '', 'type': <DataType.VARCHAR: 21>, 'params': {'max_length': 4096}}, {'field_id': 102, 'name': 'embedding', 'description': '', 'type': <DataType.FLOAT_VECTOR: 101>, 'params': {'dim': 384}}], 'functions': [], 'aliases': [], 'collection_id': 0, 'consistency_level': 0, 'properties': {}, 'num_partitions': 0, 'enable_dynamic_field': True}\n"
     ]
    },
    {
     "name": "stderr",
     "output_type": "stream",
     "text": [
      "100%|██████████| 200/200 [00:00<00:00, 947865.31it/s]\n",
      "[2025-10-03 05:56:12,124] [INFO] Wrote results to ../results/naive_results_3_emb_256_cot.json\n",
      "[2025-10-03 05:56:12,128] [INFO] N=200 | F1=0.489[0.424,0.554] | unknown_rate=0.020\n",
      "[2025-10-03 05:56:12,142] [INFO] HF SQuAD | EM=41.50% | F1=49.01%\n",
      "[2025-10-03 05:56:12,153] [INFO] Appended to ../results/comparison_analysis.csv: {'tag': 'top_3_emb_256_cot', 'n': 200, 'f1_mean': 0.48915347435255335, 'unknown_rate': 0.02, 'f1_lo': 0.4241258003847635, 'f1_hi': 0.5541811483203432, 'em_mean': 0.415, 'hf_f1': 0.4900643396748817}\n",
      "[2025-10-03 05:56:12,320] [INFO] Loaded passages: 3114\n",
      "[2025-10-03 05:56:12,321] [INFO] Encoding 3114 passages with sentence-transformers/all-MiniLM-L6-v2 ...\n"
     ]
    },
    {
     "data": {
      "application/vnd.jupyter.widget-view+json": {
       "model_id": "7c8badaf036a4114bc79941d5812e569",
       "version_major": 2,
       "version_minor": 0
      },
      "text/plain": [
       "Batches:   0%|          | 0/1038 [00:00<?, ?it/s]"
      ]
     },
     "metadata": {},
     "output_type": "display_data"
    },
    {
     "name": "stderr",
     "output_type": "stream",
     "text": [
      "[2025-10-03 05:56:26,570] [INFO] Embeddings shape: (3114, 384)\n",
      "[2025-10-03 05:56:27,535] [INFO] Loaded queries: 200\n"
     ]
    },
    {
     "name": "stdout",
     "output_type": "stream",
     "text": [
      "Entity count: 3114\n",
      "Collection schema: {'collection_name': 'rag_mini', 'auto_id': False, 'num_shards': 0, 'description': 'RAG passages (id, passage, embedding)', 'fields': [{'field_id': 100, 'name': 'id', 'description': '', 'type': <DataType.INT64: 5>, 'params': {}, 'is_primary': True}, {'field_id': 101, 'name': 'passage', 'description': '', 'type': <DataType.VARCHAR: 21>, 'params': {'max_length': 4096}}, {'field_id': 102, 'name': 'embedding', 'description': '', 'type': <DataType.FLOAT_VECTOR: 101>, 'params': {'dim': 384}}], 'functions': [], 'aliases': [], 'collection_id': 0, 'consistency_level': 0, 'properties': {}, 'num_partitions': 0, 'enable_dynamic_field': True}\n"
     ]
    },
    {
     "name": "stderr",
     "output_type": "stream",
     "text": [
      "100%|██████████| 200/200 [00:00<00:00, 916787.76it/s]\n",
      "[2025-10-03 05:57:04,515] [INFO] Wrote results to ../results/naive_results_3_emb_256_persona.json\n",
      "[2025-10-03 05:57:04,519] [INFO] N=200 | F1=0.497[0.432,0.563] | unknown_rate=0.055\n",
      "[2025-10-03 05:57:04,531] [INFO] HF SQuAD | EM=42.50% | F1=49.84%\n",
      "[2025-10-03 05:57:04,533] [INFO] Appended to ../results/comparison_analysis.csv: {'tag': 'top_3_emb_256_persona', 'n': 200, 'f1_mean': 0.4974510934001717, 'unknown_rate': 0.055, 'f1_lo': 0.43215458236585164, 'f1_hi': 0.5627476044344917, 'em_mean': 0.425, 'hf_f1': 0.49836195872250066}\n",
      "[2025-10-03 05:57:04,676] [INFO] Loaded passages: 3114\n",
      "[2025-10-03 05:57:04,676] [INFO] Encoding 3114 passages with sentence-transformers/all-MiniLM-L6-v2 ...\n"
     ]
    },
    {
     "data": {
      "application/vnd.jupyter.widget-view+json": {
       "model_id": "59ce15f545ed4570b605cade223fbd58",
       "version_major": 2,
       "version_minor": 0
      },
      "text/plain": [
       "Batches:   0%|          | 0/623 [00:00<?, ?it/s]"
      ]
     },
     "metadata": {},
     "output_type": "display_data"
    },
    {
     "name": "stderr",
     "output_type": "stream",
     "text": [
      "[2025-10-03 05:57:51,890] [INFO] Embeddings shape: (3114, 384)\n",
      "[2025-10-03 05:57:52,790] [INFO] Loaded queries: 200\n"
     ]
    },
    {
     "name": "stdout",
     "output_type": "stream",
     "text": [
      "Entity count: 3114\n",
      "Collection schema: {'collection_name': 'rag_mini', 'auto_id': False, 'num_shards': 0, 'description': 'RAG passages (id, passage, embedding)', 'fields': [{'field_id': 100, 'name': 'id', 'description': '', 'type': <DataType.INT64: 5>, 'params': {}, 'is_primary': True}, {'field_id': 101, 'name': 'passage', 'description': '', 'type': <DataType.VARCHAR: 21>, 'params': {'max_length': 4096}}, {'field_id': 102, 'name': 'embedding', 'description': '', 'type': <DataType.FLOAT_VECTOR: 101>, 'params': {'dim': 384}}], 'functions': [], 'aliases': [], 'collection_id': 0, 'consistency_level': 0, 'properties': {}, 'num_partitions': 0, 'enable_dynamic_field': True}\n"
     ]
    },
    {
     "name": "stderr",
     "output_type": "stream",
     "text": [
      "100%|██████████| 200/200 [00:00<00:00, 952168.90it/s]\n",
      "[2025-10-03 05:58:30,723] [INFO] Wrote results to ../results/naive_results_5_emb_256_instruction.json\n",
      "[2025-10-03 05:58:30,726] [INFO] N=200 | F1=0.443[0.378,0.508] | unknown_rate=0.155\n",
      "[2025-10-03 05:58:30,739] [INFO] HF SQuAD | EM=37.00% | F1=44.37%\n",
      "[2025-10-03 05:58:30,742] [INFO] Appended to ../results/comparison_analysis.csv: {'tag': 'top_5_emb_256_instruction', 'n': 200, 'f1_mean': 0.4428235916748713, 'unknown_rate': 0.155, 'f1_lo': 0.3780875183444191, 'f1_hi': 0.5075596650053235, 'em_mean': 0.37, 'hf_f1': 0.443734456997173}\n",
      "[2025-10-03 05:58:30,882] [INFO] Loaded passages: 3114\n",
      "[2025-10-03 05:58:30,882] [INFO] Encoding 3114 passages with sentence-transformers/all-MiniLM-L6-v2 ...\n"
     ]
    },
    {
     "data": {
      "application/vnd.jupyter.widget-view+json": {
       "model_id": "6853e890cd6349f6a872d45fb7d9553e",
       "version_major": 2,
       "version_minor": 0
      },
      "text/plain": [
       "Batches:   0%|          | 0/623 [00:00<?, ?it/s]"
      ]
     },
     "metadata": {},
     "output_type": "display_data"
    },
    {
     "name": "stderr",
     "output_type": "stream",
     "text": [
      "[2025-10-03 05:58:41,179] [INFO] Embeddings shape: (3114, 384)\n",
      "[2025-10-03 05:58:42,158] [INFO] Loaded queries: 200\n"
     ]
    },
    {
     "name": "stdout",
     "output_type": "stream",
     "text": [
      "Entity count: 3114\n",
      "Collection schema: {'collection_name': 'rag_mini', 'auto_id': False, 'num_shards': 0, 'description': 'RAG passages (id, passage, embedding)', 'fields': [{'field_id': 100, 'name': 'id', 'description': '', 'type': <DataType.INT64: 5>, 'params': {}, 'is_primary': True}, {'field_id': 101, 'name': 'passage', 'description': '', 'type': <DataType.VARCHAR: 21>, 'params': {'max_length': 4096}}, {'field_id': 102, 'name': 'embedding', 'description': '', 'type': <DataType.FLOAT_VECTOR: 101>, 'params': {'dim': 384}}], 'functions': [], 'aliases': [], 'collection_id': 0, 'consistency_level': 0, 'properties': {}, 'num_partitions': 0, 'enable_dynamic_field': True}\n"
     ]
    },
    {
     "name": "stderr",
     "output_type": "stream",
     "text": [
      "100%|██████████| 200/200 [00:00<00:00, 858608.80it/s]\n",
      "[2025-10-03 05:59:20,430] [INFO] Wrote results to ../results/naive_results_5_emb_256_cot.json\n",
      "[2025-10-03 05:59:20,434] [INFO] N=200 | F1=0.489[0.424,0.554] | unknown_rate=0.020\n",
      "[2025-10-03 05:59:20,447] [INFO] HF SQuAD | EM=41.50% | F1=49.01%\n",
      "[2025-10-03 05:59:20,450] [INFO] Appended to ../results/comparison_analysis.csv: {'tag': 'top_5_emb_256_cot', 'n': 200, 'f1_mean': 0.48915347435255335, 'unknown_rate': 0.02, 'f1_lo': 0.4241258003847635, 'f1_hi': 0.5541811483203432, 'em_mean': 0.415, 'hf_f1': 0.4900643396748817}\n",
      "[2025-10-03 05:59:20,585] [INFO] Loaded passages: 3114\n",
      "[2025-10-03 05:59:20,585] [INFO] Encoding 3114 passages with sentence-transformers/all-MiniLM-L6-v2 ...\n"
     ]
    },
    {
     "data": {
      "application/vnd.jupyter.widget-view+json": {
       "model_id": "fd36ea6482ec4f5db46ec4d9353c0c24",
       "version_major": 2,
       "version_minor": 0
      },
      "text/plain": [
       "Batches:   0%|          | 0/623 [00:00<?, ?it/s]"
      ]
     },
     "metadata": {},
     "output_type": "display_data"
    },
    {
     "name": "stderr",
     "output_type": "stream",
     "text": [
      "[2025-10-03 05:59:30,890] [INFO] Embeddings shape: (3114, 384)\n",
      "[2025-10-03 05:59:31,784] [INFO] Loaded queries: 200\n"
     ]
    },
    {
     "name": "stdout",
     "output_type": "stream",
     "text": [
      "Entity count: 3114\n",
      "Collection schema: {'collection_name': 'rag_mini', 'auto_id': False, 'num_shards': 0, 'description': 'RAG passages (id, passage, embedding)', 'fields': [{'field_id': 100, 'name': 'id', 'description': '', 'type': <DataType.INT64: 5>, 'params': {}, 'is_primary': True}, {'field_id': 101, 'name': 'passage', 'description': '', 'type': <DataType.VARCHAR: 21>, 'params': {'max_length': 4096}}, {'field_id': 102, 'name': 'embedding', 'description': '', 'type': <DataType.FLOAT_VECTOR: 101>, 'params': {'dim': 384}}], 'functions': [], 'aliases': [], 'collection_id': 0, 'consistency_level': 0, 'properties': {}, 'num_partitions': 0, 'enable_dynamic_field': True}\n"
     ]
    },
    {
     "name": "stderr",
     "output_type": "stream",
     "text": [
      "100%|██████████| 200/200 [00:00<00:00, 916787.76it/s]\n",
      "[2025-10-03 06:00:08,839] [INFO] Wrote results to ../results/naive_results_5_emb_256_persona.json\n",
      "[2025-10-03 06:00:08,844] [INFO] N=200 | F1=0.497[0.432,0.563] | unknown_rate=0.055\n",
      "[2025-10-03 06:00:08,857] [INFO] HF SQuAD | EM=42.50% | F1=49.84%\n",
      "[2025-10-03 06:00:08,859] [INFO] Appended to ../results/comparison_analysis.csv: {'tag': 'top_5_emb_256_persona', 'n': 200, 'f1_mean': 0.4974510934001717, 'unknown_rate': 0.055, 'f1_lo': 0.43215458236585164, 'f1_hi': 0.5627476044344917, 'em_mean': 0.425, 'hf_f1': 0.49836195872250066}\n",
      "[2025-10-03 06:00:08,991] [INFO] Loaded passages: 3114\n",
      "[2025-10-03 06:00:08,992] [INFO] Encoding 3114 passages with sentence-transformers/all-MiniLM-L6-v2 ...\n"
     ]
    },
    {
     "data": {
      "application/vnd.jupyter.widget-view+json": {
       "model_id": "09aade3c122e4e93806b1a6445600513",
       "version_major": 2,
       "version_minor": 0
      },
      "text/plain": [
       "Batches:   0%|          | 0/312 [00:00<?, ?it/s]"
      ]
     },
     "metadata": {},
     "output_type": "display_data"
    },
    {
     "name": "stderr",
     "output_type": "stream",
     "text": [
      "[2025-10-03 06:00:58,456] [INFO] Embeddings shape: (3114, 384)\n",
      "[2025-10-03 06:00:59,355] [INFO] Loaded queries: 200\n"
     ]
    },
    {
     "name": "stdout",
     "output_type": "stream",
     "text": [
      "Entity count: 3114\n",
      "Collection schema: {'collection_name': 'rag_mini', 'auto_id': False, 'num_shards': 0, 'description': 'RAG passages (id, passage, embedding)', 'fields': [{'field_id': 100, 'name': 'id', 'description': '', 'type': <DataType.INT64: 5>, 'params': {}, 'is_primary': True}, {'field_id': 101, 'name': 'passage', 'description': '', 'type': <DataType.VARCHAR: 21>, 'params': {'max_length': 4096}}, {'field_id': 102, 'name': 'embedding', 'description': '', 'type': <DataType.FLOAT_VECTOR: 101>, 'params': {'dim': 384}}], 'functions': [], 'aliases': [], 'collection_id': 0, 'consistency_level': 0, 'properties': {}, 'num_partitions': 0, 'enable_dynamic_field': True}\n"
     ]
    },
    {
     "name": "stderr",
     "output_type": "stream",
     "text": [
      "100%|██████████| 200/200 [00:00<00:00, 943600.45it/s]\n",
      "[2025-10-03 06:01:36,681] [INFO] Wrote results to ../results/naive_results_10_emb_256_instruction.json\n",
      "[2025-10-03 06:01:36,686] [INFO] N=200 | F1=0.443[0.378,0.508] | unknown_rate=0.155\n",
      "[2025-10-03 06:01:36,698] [INFO] HF SQuAD | EM=37.00% | F1=44.37%\n",
      "[2025-10-03 06:01:36,701] [INFO] Appended to ../results/comparison_analysis.csv: {'tag': 'top_10_emb_256_instruction', 'n': 200, 'f1_mean': 0.4428235916748713, 'unknown_rate': 0.155, 'f1_lo': 0.3780875183444191, 'f1_hi': 0.5075596650053235, 'em_mean': 0.37, 'hf_f1': 0.443734456997173}\n",
      "[2025-10-03 06:01:36,836] [INFO] Loaded passages: 3114\n",
      "[2025-10-03 06:01:36,836] [INFO] Encoding 3114 passages with sentence-transformers/all-MiniLM-L6-v2 ...\n"
     ]
    },
    {
     "data": {
      "application/vnd.jupyter.widget-view+json": {
       "model_id": "e1eb6fe01877406f83e311efe0e92242",
       "version_major": 2,
       "version_minor": 0
      },
      "text/plain": [
       "Batches:   0%|          | 0/312 [00:00<?, ?it/s]"
      ]
     },
     "metadata": {},
     "output_type": "display_data"
    },
    {
     "name": "stderr",
     "output_type": "stream",
     "text": [
      "[2025-10-03 06:01:45,244] [INFO] Embeddings shape: (3114, 384)\n",
      "[2025-10-03 06:01:46,153] [INFO] Loaded queries: 200\n"
     ]
    },
    {
     "name": "stdout",
     "output_type": "stream",
     "text": [
      "Entity count: 3114\n",
      "Collection schema: {'collection_name': 'rag_mini', 'auto_id': False, 'num_shards': 0, 'description': 'RAG passages (id, passage, embedding)', 'fields': [{'field_id': 100, 'name': 'id', 'description': '', 'type': <DataType.INT64: 5>, 'params': {}, 'is_primary': True}, {'field_id': 101, 'name': 'passage', 'description': '', 'type': <DataType.VARCHAR: 21>, 'params': {'max_length': 4096}}, {'field_id': 102, 'name': 'embedding', 'description': '', 'type': <DataType.FLOAT_VECTOR: 101>, 'params': {'dim': 384}}], 'functions': [], 'aliases': [], 'collection_id': 0, 'consistency_level': 0, 'properties': {}, 'num_partitions': 0, 'enable_dynamic_field': True}\n"
     ]
    },
    {
     "name": "stderr",
     "output_type": "stream",
     "text": [
      "100%|██████████| 200/200 [00:00<00:00, 847334.14it/s]\n",
      "[2025-10-03 06:02:23,999] [INFO] Wrote results to ../results/naive_results_10_emb_256_cot.json\n",
      "[2025-10-03 06:02:24,004] [INFO] N=200 | F1=0.489[0.424,0.554] | unknown_rate=0.020\n",
      "[2025-10-03 06:02:24,016] [INFO] HF SQuAD | EM=41.50% | F1=49.01%\n",
      "[2025-10-03 06:02:24,019] [INFO] Appended to ../results/comparison_analysis.csv: {'tag': 'top_10_emb_256_cot', 'n': 200, 'f1_mean': 0.48915347435255335, 'unknown_rate': 0.02, 'f1_lo': 0.4241258003847635, 'f1_hi': 0.5541811483203432, 'em_mean': 0.415, 'hf_f1': 0.4900643396748817}\n",
      "[2025-10-03 06:02:24,160] [INFO] Loaded passages: 3114\n",
      "[2025-10-03 06:02:24,160] [INFO] Encoding 3114 passages with sentence-transformers/all-MiniLM-L6-v2 ...\n"
     ]
    },
    {
     "data": {
      "application/vnd.jupyter.widget-view+json": {
       "model_id": "c04723fb3af54547a4b21181dcb16c78",
       "version_major": 2,
       "version_minor": 0
      },
      "text/plain": [
       "Batches:   0%|          | 0/312 [00:00<?, ?it/s]"
      ]
     },
     "metadata": {},
     "output_type": "display_data"
    },
    {
     "name": "stderr",
     "output_type": "stream",
     "text": [
      "[2025-10-03 06:02:32,001] [INFO] Embeddings shape: (3114, 384)\n",
      "[2025-10-03 06:02:32,908] [INFO] Loaded queries: 200\n"
     ]
    },
    {
     "name": "stdout",
     "output_type": "stream",
     "text": [
      "Entity count: 3114\n",
      "Collection schema: {'collection_name': 'rag_mini', 'auto_id': False, 'num_shards': 0, 'description': 'RAG passages (id, passage, embedding)', 'fields': [{'field_id': 100, 'name': 'id', 'description': '', 'type': <DataType.INT64: 5>, 'params': {}, 'is_primary': True}, {'field_id': 101, 'name': 'passage', 'description': '', 'type': <DataType.VARCHAR: 21>, 'params': {'max_length': 4096}}, {'field_id': 102, 'name': 'embedding', 'description': '', 'type': <DataType.FLOAT_VECTOR: 101>, 'params': {'dim': 384}}], 'functions': [], 'aliases': [], 'collection_id': 0, 'consistency_level': 0, 'properties': {}, 'num_partitions': 0, 'enable_dynamic_field': True}\n"
     ]
    },
    {
     "name": "stderr",
     "output_type": "stream",
     "text": [
      "100%|██████████| 200/200 [00:00<00:00, 930000.89it/s]\n",
      "[2025-10-03 06:03:10,328] [INFO] Wrote results to ../results/naive_results_10_emb_256_persona.json\n",
      "[2025-10-03 06:03:10,332] [INFO] N=200 | F1=0.497[0.432,0.563] | unknown_rate=0.055\n",
      "[2025-10-03 06:03:10,345] [INFO] HF SQuAD | EM=42.50% | F1=49.84%\n",
      "[2025-10-03 06:03:10,347] [INFO] Appended to ../results/comparison_analysis.csv: {'tag': 'top_10_emb_256_persona', 'n': 200, 'f1_mean': 0.4974510934001717, 'unknown_rate': 0.055, 'f1_lo': 0.43215458236585164, 'f1_hi': 0.5627476044344917, 'em_mean': 0.425, 'hf_f1': 0.49836195872250066}\n",
      "[2025-10-03 06:03:10,487] [INFO] Loaded passages: 3114\n",
      "[2025-10-03 06:03:10,487] [INFO] Encoding 3114 passages with sentence-transformers/all-MiniLM-L6-v2 ...\n"
     ]
    },
    {
     "data": {
      "application/vnd.jupyter.widget-view+json": {
       "model_id": "c12b5912365241319ea23f3d3092e105",
       "version_major": 2,
       "version_minor": 0
      },
      "text/plain": [
       "Batches:   0%|          | 0/1038 [00:00<?, ?it/s]"
      ]
     },
     "metadata": {},
     "output_type": "display_data"
    },
    {
     "name": "stderr",
     "output_type": "stream",
     "text": [
      "[2025-10-03 06:03:25,093] [INFO] Embeddings shape: (3114, 384)\n",
      "[2025-10-03 06:03:25,996] [INFO] Loaded queries: 200\n"
     ]
    },
    {
     "name": "stdout",
     "output_type": "stream",
     "text": [
      "Entity count: 3114\n",
      "Collection schema: {'collection_name': 'rag_mini', 'auto_id': False, 'num_shards': 0, 'description': 'RAG passages (id, passage, embedding)', 'fields': [{'field_id': 100, 'name': 'id', 'description': '', 'type': <DataType.INT64: 5>, 'params': {}, 'is_primary': True}, {'field_id': 101, 'name': 'passage', 'description': '', 'type': <DataType.VARCHAR: 21>, 'params': {'max_length': 4096}}, {'field_id': 102, 'name': 'embedding', 'description': '', 'type': <DataType.FLOAT_VECTOR: 101>, 'params': {'dim': 384}}], 'functions': [], 'aliases': [], 'collection_id': 0, 'consistency_level': 0, 'properties': {}, 'num_partitions': 0, 'enable_dynamic_field': True}\n"
     ]
    },
    {
     "name": "stderr",
     "output_type": "stream",
     "text": [
      "100%|██████████| 200/200 [00:00<00:00, 916787.76it/s]\n",
      "[2025-10-03 06:04:02,750] [INFO] Wrote results to ../results/naive_results_3_emb_384_instruction.json\n",
      "[2025-10-03 06:04:02,753] [INFO] N=200 | F1=0.443[0.378,0.508] | unknown_rate=0.155\n",
      "[2025-10-03 06:04:02,765] [INFO] HF SQuAD | EM=37.00% | F1=44.37%\n",
      "[2025-10-03 06:04:02,769] [INFO] Appended to ../results/comparison_analysis.csv: {'tag': 'top_3_emb_384_instruction', 'n': 200, 'f1_mean': 0.4428235916748713, 'unknown_rate': 0.155, 'f1_lo': 0.3780875183444191, 'f1_hi': 0.5075596650053235, 'em_mean': 0.37, 'hf_f1': 0.443734456997173}\n",
      "[2025-10-03 06:04:02,900] [INFO] Loaded passages: 3114\n",
      "[2025-10-03 06:04:02,901] [INFO] Encoding 3114 passages with sentence-transformers/all-MiniLM-L6-v2 ...\n"
     ]
    },
    {
     "data": {
      "application/vnd.jupyter.widget-view+json": {
       "model_id": "3a6d5221d3884c2f957a8706d00f8a41",
       "version_major": 2,
       "version_minor": 0
      },
      "text/plain": [
       "Batches:   0%|          | 0/1038 [00:00<?, ?it/s]"
      ]
     },
     "metadata": {},
     "output_type": "display_data"
    },
    {
     "name": "stderr",
     "output_type": "stream",
     "text": [
      "[2025-10-03 06:04:16,936] [INFO] Embeddings shape: (3114, 384)\n",
      "[2025-10-03 06:04:17,837] [INFO] Loaded queries: 200\n"
     ]
    },
    {
     "name": "stdout",
     "output_type": "stream",
     "text": [
      "Entity count: 3114\n",
      "Collection schema: {'collection_name': 'rag_mini', 'auto_id': False, 'num_shards': 0, 'description': 'RAG passages (id, passage, embedding)', 'fields': [{'field_id': 100, 'name': 'id', 'description': '', 'type': <DataType.INT64: 5>, 'params': {}, 'is_primary': True}, {'field_id': 101, 'name': 'passage', 'description': '', 'type': <DataType.VARCHAR: 21>, 'params': {'max_length': 4096}}, {'field_id': 102, 'name': 'embedding', 'description': '', 'type': <DataType.FLOAT_VECTOR: 101>, 'params': {'dim': 384}}], 'functions': [], 'aliases': [], 'collection_id': 0, 'consistency_level': 0, 'properties': {}, 'num_partitions': 0, 'enable_dynamic_field': True}\n"
     ]
    },
    {
     "name": "stderr",
     "output_type": "stream",
     "text": [
      "100%|██████████| 200/200 [00:00<00:00, 920813.17it/s]\n",
      "[2025-10-03 06:04:56,353] [INFO] Wrote results to ../results/naive_results_3_emb_384_cot.json\n",
      "[2025-10-03 06:04:56,357] [INFO] N=200 | F1=0.489[0.424,0.554] | unknown_rate=0.020\n",
      "[2025-10-03 06:04:56,370] [INFO] HF SQuAD | EM=41.50% | F1=49.01%\n",
      "[2025-10-03 06:04:56,373] [INFO] Appended to ../results/comparison_analysis.csv: {'tag': 'top_3_emb_384_cot', 'n': 200, 'f1_mean': 0.48915347435255335, 'unknown_rate': 0.02, 'f1_lo': 0.4241258003847635, 'f1_hi': 0.5541811483203432, 'em_mean': 0.415, 'hf_f1': 0.4900643396748817}\n",
      "[2025-10-03 06:04:56,512] [INFO] Loaded passages: 3114\n",
      "[2025-10-03 06:04:56,512] [INFO] Encoding 3114 passages with sentence-transformers/all-MiniLM-L6-v2 ...\n"
     ]
    },
    {
     "data": {
      "application/vnd.jupyter.widget-view+json": {
       "model_id": "2442181dcec7476f903faeb73fe44d3f",
       "version_major": 2,
       "version_minor": 0
      },
      "text/plain": [
       "Batches:   0%|          | 0/1038 [00:00<?, ?it/s]"
      ]
     },
     "metadata": {},
     "output_type": "display_data"
    },
    {
     "name": "stderr",
     "output_type": "stream",
     "text": [
      "[2025-10-03 06:05:10,500] [INFO] Embeddings shape: (3114, 384)\n",
      "[2025-10-03 06:05:11,397] [INFO] Loaded queries: 200\n"
     ]
    },
    {
     "name": "stdout",
     "output_type": "stream",
     "text": [
      "Entity count: 3114\n",
      "Collection schema: {'collection_name': 'rag_mini', 'auto_id': False, 'num_shards': 0, 'description': 'RAG passages (id, passage, embedding)', 'fields': [{'field_id': 100, 'name': 'id', 'description': '', 'type': <DataType.INT64: 5>, 'params': {}, 'is_primary': True}, {'field_id': 101, 'name': 'passage', 'description': '', 'type': <DataType.VARCHAR: 21>, 'params': {'max_length': 4096}}, {'field_id': 102, 'name': 'embedding', 'description': '', 'type': <DataType.FLOAT_VECTOR: 101>, 'params': {'dim': 384}}], 'functions': [], 'aliases': [], 'collection_id': 0, 'consistency_level': 0, 'properties': {}, 'num_partitions': 0, 'enable_dynamic_field': True}\n"
     ]
    },
    {
     "name": "stderr",
     "output_type": "stream",
     "text": [
      "100%|██████████| 200/200 [00:00<00:00, 917790.81it/s]\n",
      "[2025-10-03 06:05:47,650] [INFO] Wrote results to ../results/naive_results_3_emb_384_persona.json\n",
      "[2025-10-03 06:05:47,654] [INFO] N=200 | F1=0.497[0.432,0.563] | unknown_rate=0.055\n",
      "[2025-10-03 06:05:47,665] [INFO] HF SQuAD | EM=42.50% | F1=49.84%\n",
      "[2025-10-03 06:05:47,668] [INFO] Appended to ../results/comparison_analysis.csv: {'tag': 'top_3_emb_384_persona', 'n': 200, 'f1_mean': 0.4974510934001717, 'unknown_rate': 0.055, 'f1_lo': 0.43215458236585164, 'f1_hi': 0.5627476044344917, 'em_mean': 0.425, 'hf_f1': 0.49836195872250066}\n",
      "[2025-10-03 06:05:47,805] [INFO] Loaded passages: 3114\n",
      "[2025-10-03 06:05:47,805] [INFO] Encoding 3114 passages with sentence-transformers/all-MiniLM-L6-v2 ...\n"
     ]
    },
    {
     "data": {
      "application/vnd.jupyter.widget-view+json": {
       "model_id": "97927115a6b740dc82e191b216da09f0",
       "version_major": 2,
       "version_minor": 0
      },
      "text/plain": [
       "Batches:   0%|          | 0/623 [00:00<?, ?it/s]"
      ]
     },
     "metadata": {},
     "output_type": "display_data"
    },
    {
     "name": "stderr",
     "output_type": "stream",
     "text": [
      "[2025-10-03 06:05:58,452] [INFO] Embeddings shape: (3114, 384)\n",
      "[2025-10-03 06:05:59,364] [INFO] Loaded queries: 200\n"
     ]
    },
    {
     "name": "stdout",
     "output_type": "stream",
     "text": [
      "Entity count: 3114\n",
      "Collection schema: {'collection_name': 'rag_mini', 'auto_id': False, 'num_shards': 0, 'description': 'RAG passages (id, passage, embedding)', 'fields': [{'field_id': 100, 'name': 'id', 'description': '', 'type': <DataType.INT64: 5>, 'params': {}, 'is_primary': True}, {'field_id': 101, 'name': 'passage', 'description': '', 'type': <DataType.VARCHAR: 21>, 'params': {'max_length': 4096}}, {'field_id': 102, 'name': 'embedding', 'description': '', 'type': <DataType.FLOAT_VECTOR: 101>, 'params': {'dim': 384}}], 'functions': [], 'aliases': [], 'collection_id': 0, 'consistency_level': 0, 'properties': {}, 'num_partitions': 0, 'enable_dynamic_field': True}\n"
     ]
    },
    {
     "name": "stderr",
     "output_type": "stream",
     "text": [
      "100%|██████████| 200/200 [00:00<00:00, 900065.24it/s]\n",
      "[2025-10-03 06:06:36,051] [INFO] Wrote results to ../results/naive_results_5_emb_384_instruction.json\n",
      "[2025-10-03 06:06:36,055] [INFO] N=200 | F1=0.443[0.378,0.508] | unknown_rate=0.155\n",
      "[2025-10-03 06:06:36,068] [INFO] HF SQuAD | EM=37.00% | F1=44.37%\n",
      "[2025-10-03 06:06:36,070] [INFO] Appended to ../results/comparison_analysis.csv: {'tag': 'top_5_emb_384_instruction', 'n': 200, 'f1_mean': 0.4428235916748713, 'unknown_rate': 0.155, 'f1_lo': 0.3780875183444191, 'f1_hi': 0.5075596650053235, 'em_mean': 0.37, 'hf_f1': 0.443734456997173}\n",
      "[2025-10-03 06:06:36,213] [INFO] Loaded passages: 3114\n",
      "[2025-10-03 06:06:36,213] [INFO] Encoding 3114 passages with sentence-transformers/all-MiniLM-L6-v2 ...\n"
     ]
    },
    {
     "data": {
      "application/vnd.jupyter.widget-view+json": {
       "model_id": "4f3fda188e4e4ff5897a76fb7a8862cf",
       "version_major": 2,
       "version_minor": 0
      },
      "text/plain": [
       "Batches:   0%|          | 0/623 [00:00<?, ?it/s]"
      ]
     },
     "metadata": {},
     "output_type": "display_data"
    },
    {
     "name": "stderr",
     "output_type": "stream",
     "text": [
      "[2025-10-03 06:06:46,521] [INFO] Embeddings shape: (3114, 384)\n",
      "[2025-10-03 06:06:47,424] [INFO] Loaded queries: 200\n"
     ]
    },
    {
     "name": "stdout",
     "output_type": "stream",
     "text": [
      "Entity count: 3114\n",
      "Collection schema: {'collection_name': 'rag_mini', 'auto_id': False, 'num_shards': 0, 'description': 'RAG passages (id, passage, embedding)', 'fields': [{'field_id': 100, 'name': 'id', 'description': '', 'type': <DataType.INT64: 5>, 'params': {}, 'is_primary': True}, {'field_id': 101, 'name': 'passage', 'description': '', 'type': <DataType.VARCHAR: 21>, 'params': {'max_length': 4096}}, {'field_id': 102, 'name': 'embedding', 'description': '', 'type': <DataType.FLOAT_VECTOR: 101>, 'params': {'dim': 384}}], 'functions': [], 'aliases': [], 'collection_id': 0, 'consistency_level': 0, 'properties': {}, 'num_partitions': 0, 'enable_dynamic_field': True}\n"
     ]
    },
    {
     "name": "stderr",
     "output_type": "stream",
     "text": [
      "100%|██████████| 200/200 [00:00<00:00, 932067.56it/s]\n",
      "[2025-10-03 06:07:25,387] [INFO] Wrote results to ../results/naive_results_5_emb_384_cot.json\n",
      "[2025-10-03 06:07:25,391] [INFO] N=200 | F1=0.489[0.424,0.554] | unknown_rate=0.020\n",
      "[2025-10-03 06:07:25,404] [INFO] HF SQuAD | EM=41.50% | F1=49.01%\n",
      "[2025-10-03 06:07:25,407] [INFO] Appended to ../results/comparison_analysis.csv: {'tag': 'top_5_emb_384_cot', 'n': 200, 'f1_mean': 0.48915347435255335, 'unknown_rate': 0.02, 'f1_lo': 0.4241258003847635, 'f1_hi': 0.5541811483203432, 'em_mean': 0.415, 'hf_f1': 0.4900643396748817}\n",
      "[2025-10-03 06:07:25,541] [INFO] Loaded passages: 3114\n",
      "[2025-10-03 06:07:25,542] [INFO] Encoding 3114 passages with sentence-transformers/all-MiniLM-L6-v2 ...\n"
     ]
    },
    {
     "data": {
      "application/vnd.jupyter.widget-view+json": {
       "model_id": "2e1ba79e6f624933aab8b9c530962eeb",
       "version_major": 2,
       "version_minor": 0
      },
      "text/plain": [
       "Batches:   0%|          | 0/623 [00:00<?, ?it/s]"
      ]
     },
     "metadata": {},
     "output_type": "display_data"
    },
    {
     "name": "stderr",
     "output_type": "stream",
     "text": [
      "[2025-10-03 06:07:36,193] [INFO] Embeddings shape: (3114, 384)\n",
      "[2025-10-03 06:07:37,098] [INFO] Loaded queries: 200\n"
     ]
    },
    {
     "name": "stdout",
     "output_type": "stream",
     "text": [
      "Entity count: 3114\n",
      "Collection schema: {'collection_name': 'rag_mini', 'auto_id': False, 'num_shards': 0, 'description': 'RAG passages (id, passage, embedding)', 'fields': [{'field_id': 100, 'name': 'id', 'description': '', 'type': <DataType.INT64: 5>, 'params': {}, 'is_primary': True}, {'field_id': 101, 'name': 'passage', 'description': '', 'type': <DataType.VARCHAR: 21>, 'params': {'max_length': 4096}}, {'field_id': 102, 'name': 'embedding', 'description': '', 'type': <DataType.FLOAT_VECTOR: 101>, 'params': {'dim': 384}}], 'functions': [], 'aliases': [], 'collection_id': 0, 'consistency_level': 0, 'properties': {}, 'num_partitions': 0, 'enable_dynamic_field': True}\n"
     ]
    },
    {
     "name": "stderr",
     "output_type": "stream",
     "text": [
      "100%|██████████| 200/200 [00:00<00:00, 947865.31it/s]\n",
      "[2025-10-03 06:08:13,808] [INFO] Wrote results to ../results/naive_results_5_emb_384_persona.json\n",
      "[2025-10-03 06:08:13,812] [INFO] N=200 | F1=0.497[0.432,0.563] | unknown_rate=0.055\n",
      "[2025-10-03 06:08:13,824] [INFO] HF SQuAD | EM=42.50% | F1=49.84%\n",
      "[2025-10-03 06:08:13,826] [INFO] Appended to ../results/comparison_analysis.csv: {'tag': 'top_5_emb_384_persona', 'n': 200, 'f1_mean': 0.4974510934001717, 'unknown_rate': 0.055, 'f1_lo': 0.43215458236585164, 'f1_hi': 0.5627476044344917, 'em_mean': 0.425, 'hf_f1': 0.49836195872250066}\n",
      "[2025-10-03 06:08:13,967] [INFO] Loaded passages: 3114\n",
      "[2025-10-03 06:08:13,967] [INFO] Encoding 3114 passages with sentence-transformers/all-MiniLM-L6-v2 ...\n"
     ]
    },
    {
     "data": {
      "application/vnd.jupyter.widget-view+json": {
       "model_id": "775435fb405b4a968a4f1d3981aa7593",
       "version_major": 2,
       "version_minor": 0
      },
      "text/plain": [
       "Batches:   0%|          | 0/312 [00:00<?, ?it/s]"
      ]
     },
     "metadata": {},
     "output_type": "display_data"
    },
    {
     "name": "stderr",
     "output_type": "stream",
     "text": [
      "[2025-10-03 06:08:22,050] [INFO] Embeddings shape: (3114, 384)\n",
      "[2025-10-03 06:08:22,956] [INFO] Loaded queries: 200\n"
     ]
    },
    {
     "name": "stdout",
     "output_type": "stream",
     "text": [
      "Entity count: 3114\n",
      "Collection schema: {'collection_name': 'rag_mini', 'auto_id': False, 'num_shards': 0, 'description': 'RAG passages (id, passage, embedding)', 'fields': [{'field_id': 100, 'name': 'id', 'description': '', 'type': <DataType.INT64: 5>, 'params': {}, 'is_primary': True}, {'field_id': 101, 'name': 'passage', 'description': '', 'type': <DataType.VARCHAR: 21>, 'params': {'max_length': 4096}}, {'field_id': 102, 'name': 'embedding', 'description': '', 'type': <DataType.FLOAT_VECTOR: 101>, 'params': {'dim': 384}}], 'functions': [], 'aliases': [], 'collection_id': 0, 'consistency_level': 0, 'properties': {}, 'num_partitions': 0, 'enable_dynamic_field': True}\n"
     ]
    },
    {
     "name": "stderr",
     "output_type": "stream",
     "text": [
      "100%|██████████| 200/200 [00:00<00:00, 966429.49it/s]\n",
      "[2025-10-03 06:08:59,265] [INFO] Wrote results to ../results/naive_results_10_emb_384_instruction.json\n",
      "[2025-10-03 06:08:59,268] [INFO] N=200 | F1=0.443[0.378,0.508] | unknown_rate=0.155\n",
      "[2025-10-03 06:08:59,281] [INFO] HF SQuAD | EM=37.00% | F1=44.37%\n",
      "[2025-10-03 06:08:59,283] [INFO] Appended to ../results/comparison_analysis.csv: {'tag': 'top_10_emb_384_instruction', 'n': 200, 'f1_mean': 0.4428235916748713, 'unknown_rate': 0.155, 'f1_lo': 0.3780875183444191, 'f1_hi': 0.5075596650053235, 'em_mean': 0.37, 'hf_f1': 0.443734456997173}\n",
      "[2025-10-03 06:08:59,415] [INFO] Loaded passages: 3114\n",
      "[2025-10-03 06:08:59,416] [INFO] Encoding 3114 passages with sentence-transformers/all-MiniLM-L6-v2 ...\n"
     ]
    },
    {
     "data": {
      "application/vnd.jupyter.widget-view+json": {
       "model_id": "40f228127db94fa1bbc2dde12d7ae402",
       "version_major": 2,
       "version_minor": 0
      },
      "text/plain": [
       "Batches:   0%|          | 0/312 [00:00<?, ?it/s]"
      ]
     },
     "metadata": {},
     "output_type": "display_data"
    },
    {
     "name": "stderr",
     "output_type": "stream",
     "text": [
      "[2025-10-03 06:09:07,283] [INFO] Embeddings shape: (3114, 384)\n",
      "[2025-10-03 06:09:08,179] [INFO] Loaded queries: 200\n"
     ]
    },
    {
     "name": "stdout",
     "output_type": "stream",
     "text": [
      "Entity count: 3114\n",
      "Collection schema: {'collection_name': 'rag_mini', 'auto_id': False, 'num_shards': 0, 'description': 'RAG passages (id, passage, embedding)', 'fields': [{'field_id': 100, 'name': 'id', 'description': '', 'type': <DataType.INT64: 5>, 'params': {}, 'is_primary': True}, {'field_id': 101, 'name': 'passage', 'description': '', 'type': <DataType.VARCHAR: 21>, 'params': {'max_length': 4096}}, {'field_id': 102, 'name': 'embedding', 'description': '', 'type': <DataType.FLOAT_VECTOR: 101>, 'params': {'dim': 384}}], 'functions': [], 'aliases': [], 'collection_id': 0, 'consistency_level': 0, 'properties': {}, 'num_partitions': 0, 'enable_dynamic_field': True}\n"
     ]
    },
    {
     "name": "stderr",
     "output_type": "stream",
     "text": [
      "100%|██████████| 200/200 [00:00<00:00, 934143.43it/s]\n",
      "[2025-10-03 06:09:46,227] [INFO] Wrote results to ../results/naive_results_10_emb_384_cot.json\n",
      "[2025-10-03 06:09:46,230] [INFO] N=200 | F1=0.489[0.424,0.554] | unknown_rate=0.020\n",
      "[2025-10-03 06:09:46,243] [INFO] HF SQuAD | EM=41.50% | F1=49.01%\n",
      "[2025-10-03 06:09:46,246] [INFO] Appended to ../results/comparison_analysis.csv: {'tag': 'top_10_emb_384_cot', 'n': 200, 'f1_mean': 0.48915347435255335, 'unknown_rate': 0.02, 'f1_lo': 0.4241258003847635, 'f1_hi': 0.5541811483203432, 'em_mean': 0.415, 'hf_f1': 0.4900643396748817}\n",
      "[2025-10-03 06:09:46,370] [INFO] Loaded passages: 3114\n",
      "[2025-10-03 06:09:46,371] [INFO] Encoding 3114 passages with sentence-transformers/all-MiniLM-L6-v2 ...\n"
     ]
    },
    {
     "data": {
      "application/vnd.jupyter.widget-view+json": {
       "model_id": "41cfc73df36e4857af57728d7b165648",
       "version_major": 2,
       "version_minor": 0
      },
      "text/plain": [
       "Batches:   0%|          | 0/312 [00:00<?, ?it/s]"
      ]
     },
     "metadata": {},
     "output_type": "display_data"
    },
    {
     "name": "stderr",
     "output_type": "stream",
     "text": [
      "[2025-10-03 06:09:54,097] [INFO] Embeddings shape: (3114, 384)\n",
      "[2025-10-03 06:09:54,996] [INFO] Loaded queries: 200\n"
     ]
    },
    {
     "name": "stdout",
     "output_type": "stream",
     "text": [
      "Entity count: 3114\n",
      "Collection schema: {'collection_name': 'rag_mini', 'auto_id': False, 'num_shards': 0, 'description': 'RAG passages (id, passage, embedding)', 'fields': [{'field_id': 100, 'name': 'id', 'description': '', 'type': <DataType.INT64: 5>, 'params': {}, 'is_primary': True}, {'field_id': 101, 'name': 'passage', 'description': '', 'type': <DataType.VARCHAR: 21>, 'params': {'max_length': 4096}}, {'field_id': 102, 'name': 'embedding', 'description': '', 'type': <DataType.FLOAT_VECTOR: 101>, 'params': {'dim': 384}}], 'functions': [], 'aliases': [], 'collection_id': 0, 'consistency_level': 0, 'properties': {}, 'num_partitions': 0, 'enable_dynamic_field': True}\n"
     ]
    },
    {
     "name": "stderr",
     "output_type": "stream",
     "text": [
      "100%|██████████| 200/200 [00:00<00:00, 939373.80it/s]\n",
      "[2025-10-03 06:10:31,750] [INFO] Wrote results to ../results/naive_results_10_emb_384_persona.json\n",
      "[2025-10-03 06:10:31,754] [INFO] N=200 | F1=0.497[0.432,0.563] | unknown_rate=0.055\n",
      "[2025-10-03 06:10:31,766] [INFO] HF SQuAD | EM=42.50% | F1=49.84%\n",
      "[2025-10-03 06:10:31,769] [INFO] Appended to ../results/comparison_analysis.csv: {'tag': 'top_10_emb_384_persona', 'n': 200, 'f1_mean': 0.4974510934001717, 'unknown_rate': 0.055, 'f1_lo': 0.43215458236585164, 'f1_hi': 0.5627476044344917, 'em_mean': 0.425, 'hf_f1': 0.49836195872250066}\n",
      "[2025-10-03 06:10:31,904] [INFO] Loaded passages: 3114\n",
      "[2025-10-03 06:10:31,905] [INFO] Encoding 3114 passages with sentence-transformers/all-MiniLM-L6-v2 ...\n"
     ]
    },
    {
     "data": {
      "application/vnd.jupyter.widget-view+json": {
       "model_id": "e552fe9817524b2fb396d08afdd1837e",
       "version_major": 2,
       "version_minor": 0
      },
      "text/plain": [
       "Batches:   0%|          | 0/1038 [00:00<?, ?it/s]"
      ]
     },
     "metadata": {},
     "output_type": "display_data"
    },
    {
     "name": "stderr",
     "output_type": "stream",
     "text": [
      "[2025-10-03 06:10:46,433] [INFO] Embeddings shape: (3114, 384)\n",
      "[2025-10-03 06:10:47,344] [INFO] Loaded queries: 200\n"
     ]
    },
    {
     "name": "stdout",
     "output_type": "stream",
     "text": [
      "Entity count: 3114\n",
      "Collection schema: {'collection_name': 'rag_mini', 'auto_id': False, 'num_shards': 0, 'description': 'RAG passages (id, passage, embedding)', 'fields': [{'field_id': 100, 'name': 'id', 'description': '', 'type': <DataType.INT64: 5>, 'params': {}, 'is_primary': True}, {'field_id': 101, 'name': 'passage', 'description': '', 'type': <DataType.VARCHAR: 21>, 'params': {'max_length': 4096}}, {'field_id': 102, 'name': 'embedding', 'description': '', 'type': <DataType.FLOAT_VECTOR: 101>, 'params': {'dim': 384}}], 'functions': [], 'aliases': [], 'collection_id': 0, 'consistency_level': 0, 'properties': {}, 'num_partitions': 0, 'enable_dynamic_field': True}\n"
     ]
    },
    {
     "name": "stderr",
     "output_type": "stream",
     "text": [
      "100%|██████████| 200/200 [00:00<00:00, 943600.45it/s]\n",
      "[2025-10-03 06:11:23,806] [INFO] Wrote results to ../results/naive_results_3_emb_512_instruction.json\n",
      "[2025-10-03 06:11:23,810] [INFO] N=200 | F1=0.443[0.378,0.508] | unknown_rate=0.155\n",
      "[2025-10-03 06:11:23,823] [INFO] HF SQuAD | EM=37.00% | F1=44.37%\n",
      "[2025-10-03 06:11:23,826] [INFO] Appended to ../results/comparison_analysis.csv: {'tag': 'top_3_emb_512_instruction', 'n': 200, 'f1_mean': 0.4428235916748713, 'unknown_rate': 0.155, 'f1_lo': 0.3780875183444191, 'f1_hi': 0.5075596650053235, 'em_mean': 0.37, 'hf_f1': 0.443734456997173}\n",
      "[2025-10-03 06:11:23,952] [INFO] Loaded passages: 3114\n",
      "[2025-10-03 06:11:23,952] [INFO] Encoding 3114 passages with sentence-transformers/all-MiniLM-L6-v2 ...\n"
     ]
    },
    {
     "data": {
      "application/vnd.jupyter.widget-view+json": {
       "model_id": "76c26c46cf5641be83a8459fe9bdb171",
       "version_major": 2,
       "version_minor": 0
      },
      "text/plain": [
       "Batches:   0%|          | 0/1038 [00:00<?, ?it/s]"
      ]
     },
     "metadata": {},
     "output_type": "display_data"
    },
    {
     "name": "stderr",
     "output_type": "stream",
     "text": [
      "[2025-10-03 06:11:37,956] [INFO] Embeddings shape: (3114, 384)\n",
      "[2025-10-03 06:11:38,870] [INFO] Loaded queries: 200\n"
     ]
    },
    {
     "name": "stdout",
     "output_type": "stream",
     "text": [
      "Entity count: 3114\n",
      "Collection schema: {'collection_name': 'rag_mini', 'auto_id': False, 'num_shards': 0, 'description': 'RAG passages (id, passage, embedding)', 'fields': [{'field_id': 100, 'name': 'id', 'description': '', 'type': <DataType.INT64: 5>, 'params': {}, 'is_primary': True}, {'field_id': 101, 'name': 'passage', 'description': '', 'type': <DataType.VARCHAR: 21>, 'params': {'max_length': 4096}}, {'field_id': 102, 'name': 'embedding', 'description': '', 'type': <DataType.FLOAT_VECTOR: 101>, 'params': {'dim': 384}}], 'functions': [], 'aliases': [], 'collection_id': 0, 'consistency_level': 0, 'properties': {}, 'num_partitions': 0, 'enable_dynamic_field': True}\n"
     ]
    },
    {
     "name": "stderr",
     "output_type": "stream",
     "text": [
      "100%|██████████| 200/200 [00:00<00:00, 925894.92it/s]\n",
      "[2025-10-03 06:12:17,058] [INFO] Wrote results to ../results/naive_results_3_emb_512_cot.json\n",
      "[2025-10-03 06:12:17,062] [INFO] N=200 | F1=0.489[0.424,0.554] | unknown_rate=0.020\n",
      "[2025-10-03 06:12:17,074] [INFO] HF SQuAD | EM=41.50% | F1=49.01%\n",
      "[2025-10-03 06:12:17,077] [INFO] Appended to ../results/comparison_analysis.csv: {'tag': 'top_3_emb_512_cot', 'n': 200, 'f1_mean': 0.48915347435255335, 'unknown_rate': 0.02, 'f1_lo': 0.4241258003847635, 'f1_hi': 0.5541811483203432, 'em_mean': 0.415, 'hf_f1': 0.4900643396748817}\n",
      "[2025-10-03 06:12:17,209] [INFO] Loaded passages: 3114\n",
      "[2025-10-03 06:12:17,210] [INFO] Encoding 3114 passages with sentence-transformers/all-MiniLM-L6-v2 ...\n"
     ]
    },
    {
     "data": {
      "application/vnd.jupyter.widget-view+json": {
       "model_id": "2ec3e2438a194ccc83a369e2976bde3f",
       "version_major": 2,
       "version_minor": 0
      },
      "text/plain": [
       "Batches:   0%|          | 0/1038 [00:00<?, ?it/s]"
      ]
     },
     "metadata": {},
     "output_type": "display_data"
    },
    {
     "name": "stderr",
     "output_type": "stream",
     "text": [
      "[2025-10-03 06:12:31,215] [INFO] Embeddings shape: (3114, 384)\n",
      "[2025-10-03 06:12:32,118] [INFO] Loaded queries: 200\n"
     ]
    },
    {
     "name": "stdout",
     "output_type": "stream",
     "text": [
      "Entity count: 3114\n",
      "Collection schema: {'collection_name': 'rag_mini', 'auto_id': False, 'num_shards': 0, 'description': 'RAG passages (id, passage, embedding)', 'fields': [{'field_id': 100, 'name': 'id', 'description': '', 'type': <DataType.INT64: 5>, 'params': {}, 'is_primary': True}, {'field_id': 101, 'name': 'passage', 'description': '', 'type': <DataType.VARCHAR: 21>, 'params': {'max_length': 4096}}, {'field_id': 102, 'name': 'embedding', 'description': '', 'type': <DataType.FLOAT_VECTOR: 101>, 'params': {'dim': 384}}], 'functions': [], 'aliases': [], 'collection_id': 0, 'consistency_level': 0, 'properties': {}, 'num_partitions': 0, 'enable_dynamic_field': True}\n"
     ]
    },
    {
     "name": "stderr",
     "output_type": "stream",
     "text": [
      "100%|██████████| 200/200 [00:00<00:00, 897177.33it/s]\n",
      "[2025-10-03 06:13:09,456] [INFO] Wrote results to ../results/naive_results_3_emb_512_persona.json\n",
      "[2025-10-03 06:13:09,460] [INFO] N=200 | F1=0.497[0.432,0.563] | unknown_rate=0.055\n",
      "[2025-10-03 06:13:09,472] [INFO] HF SQuAD | EM=42.50% | F1=49.84%\n",
      "[2025-10-03 06:13:09,476] [INFO] Appended to ../results/comparison_analysis.csv: {'tag': 'top_3_emb_512_persona', 'n': 200, 'f1_mean': 0.4974510934001717, 'unknown_rate': 0.055, 'f1_lo': 0.43215458236585164, 'f1_hi': 0.5627476044344917, 'em_mean': 0.425, 'hf_f1': 0.49836195872250066}\n",
      "[2025-10-03 06:13:09,609] [INFO] Loaded passages: 3114\n",
      "[2025-10-03 06:13:09,609] [INFO] Encoding 3114 passages with sentence-transformers/all-MiniLM-L6-v2 ...\n"
     ]
    },
    {
     "data": {
      "application/vnd.jupyter.widget-view+json": {
       "model_id": "ead70d6be9394924a54dc9c6ac546e52",
       "version_major": 2,
       "version_minor": 0
      },
      "text/plain": [
       "Batches:   0%|          | 0/623 [00:00<?, ?it/s]"
      ]
     },
     "metadata": {},
     "output_type": "display_data"
    },
    {
     "name": "stderr",
     "output_type": "stream",
     "text": [
      "[2025-10-03 06:13:20,021] [INFO] Embeddings shape: (3114, 384)\n",
      "[2025-10-03 06:13:20,931] [INFO] Loaded queries: 200\n"
     ]
    },
    {
     "name": "stdout",
     "output_type": "stream",
     "text": [
      "Entity count: 3114\n",
      "Collection schema: {'collection_name': 'rag_mini', 'auto_id': False, 'num_shards': 0, 'description': 'RAG passages (id, passage, embedding)', 'fields': [{'field_id': 100, 'name': 'id', 'description': '', 'type': <DataType.INT64: 5>, 'params': {}, 'is_primary': True}, {'field_id': 101, 'name': 'passage', 'description': '', 'type': <DataType.VARCHAR: 21>, 'params': {'max_length': 4096}}, {'field_id': 102, 'name': 'embedding', 'description': '', 'type': <DataType.FLOAT_VECTOR: 101>, 'params': {'dim': 384}}], 'functions': [], 'aliases': [], 'collection_id': 0, 'consistency_level': 0, 'properties': {}, 'num_partitions': 0, 'enable_dynamic_field': True}\n"
     ]
    },
    {
     "name": "stderr",
     "output_type": "stream",
     "text": [
      "100%|██████████| 200/200 [00:00<00:00, 917790.81it/s]\n",
      "[2025-10-03 06:13:57,120] [INFO] Wrote results to ../results/naive_results_5_emb_512_instruction.json\n",
      "[2025-10-03 06:13:57,123] [INFO] N=200 | F1=0.443[0.378,0.508] | unknown_rate=0.155\n",
      "[2025-10-03 06:13:57,137] [INFO] HF SQuAD | EM=37.00% | F1=44.37%\n",
      "[2025-10-03 06:13:57,141] [INFO] Appended to ../results/comparison_analysis.csv: {'tag': 'top_5_emb_512_instruction', 'n': 200, 'f1_mean': 0.4428235916748713, 'unknown_rate': 0.155, 'f1_lo': 0.3780875183444191, 'f1_hi': 0.5075596650053235, 'em_mean': 0.37, 'hf_f1': 0.443734456997173}\n",
      "[2025-10-03 06:13:57,270] [INFO] Loaded passages: 3114\n",
      "[2025-10-03 06:13:57,270] [INFO] Encoding 3114 passages with sentence-transformers/all-MiniLM-L6-v2 ...\n"
     ]
    },
    {
     "data": {
      "application/vnd.jupyter.widget-view+json": {
       "model_id": "a93597213c1742b7b4923e8c25c22e8b",
       "version_major": 2,
       "version_minor": 0
      },
      "text/plain": [
       "Batches:   0%|          | 0/623 [00:00<?, ?it/s]"
      ]
     },
     "metadata": {},
     "output_type": "display_data"
    },
    {
     "name": "stderr",
     "output_type": "stream",
     "text": [
      "[2025-10-03 06:14:07,611] [INFO] Embeddings shape: (3114, 384)\n",
      "[2025-10-03 06:14:08,514] [INFO] Loaded queries: 200\n"
     ]
    },
    {
     "name": "stdout",
     "output_type": "stream",
     "text": [
      "Entity count: 3114\n",
      "Collection schema: {'collection_name': 'rag_mini', 'auto_id': False, 'num_shards': 0, 'description': 'RAG passages (id, passage, embedding)', 'fields': [{'field_id': 100, 'name': 'id', 'description': '', 'type': <DataType.INT64: 5>, 'params': {}, 'is_primary': True}, {'field_id': 101, 'name': 'passage', 'description': '', 'type': <DataType.VARCHAR: 21>, 'params': {'max_length': 4096}}, {'field_id': 102, 'name': 'embedding', 'description': '', 'type': <DataType.FLOAT_VECTOR: 101>, 'params': {'dim': 384}}], 'functions': [], 'aliases': [], 'collection_id': 0, 'consistency_level': 0, 'properties': {}, 'num_partitions': 0, 'enable_dynamic_field': True}\n"
     ]
    },
    {
     "name": "stderr",
     "output_type": "stream",
     "text": [
      "100%|██████████| 200/200 [00:00<00:00, 946795.49it/s]\n",
      "[2025-10-03 06:14:46,526] [INFO] Wrote results to ../results/naive_results_5_emb_512_cot.json\n",
      "[2025-10-03 06:14:46,530] [INFO] N=200 | F1=0.489[0.424,0.554] | unknown_rate=0.020\n",
      "[2025-10-03 06:14:46,542] [INFO] HF SQuAD | EM=41.50% | F1=49.01%\n",
      "[2025-10-03 06:14:46,545] [INFO] Appended to ../results/comparison_analysis.csv: {'tag': 'top_5_emb_512_cot', 'n': 200, 'f1_mean': 0.48915347435255335, 'unknown_rate': 0.02, 'f1_lo': 0.4241258003847635, 'f1_hi': 0.5541811483203432, 'em_mean': 0.415, 'hf_f1': 0.4900643396748817}\n",
      "[2025-10-03 06:14:46,671] [INFO] Loaded passages: 3114\n",
      "[2025-10-03 06:14:46,671] [INFO] Encoding 3114 passages with sentence-transformers/all-MiniLM-L6-v2 ...\n"
     ]
    },
    {
     "data": {
      "application/vnd.jupyter.widget-view+json": {
       "model_id": "efedf3ac44834cf69d7eb2234339f455",
       "version_major": 2,
       "version_minor": 0
      },
      "text/plain": [
       "Batches:   0%|          | 0/623 [00:00<?, ?it/s]"
      ]
     },
     "metadata": {},
     "output_type": "display_data"
    },
    {
     "name": "stderr",
     "output_type": "stream",
     "text": [
      "[2025-10-03 06:14:56,921] [INFO] Embeddings shape: (3114, 384)\n",
      "[2025-10-03 06:14:57,818] [INFO] Loaded queries: 200\n"
     ]
    },
    {
     "name": "stdout",
     "output_type": "stream",
     "text": [
      "Entity count: 3114\n",
      "Collection schema: {'collection_name': 'rag_mini', 'auto_id': False, 'num_shards': 0, 'description': 'RAG passages (id, passage, embedding)', 'fields': [{'field_id': 100, 'name': 'id', 'description': '', 'type': <DataType.INT64: 5>, 'params': {}, 'is_primary': True}, {'field_id': 101, 'name': 'passage', 'description': '', 'type': <DataType.VARCHAR: 21>, 'params': {'max_length': 4096}}, {'field_id': 102, 'name': 'embedding', 'description': '', 'type': <DataType.FLOAT_VECTOR: 101>, 'params': {'dim': 384}}], 'functions': [], 'aliases': [], 'collection_id': 0, 'consistency_level': 0, 'properties': {}, 'num_partitions': 0, 'enable_dynamic_field': True}\n"
     ]
    },
    {
     "name": "stderr",
     "output_type": "stream",
     "text": [
      "100%|██████████| 200/200 [00:00<00:00, 893355.48it/s]\n",
      "[2025-10-03 06:15:35,398] [INFO] Wrote results to ../results/naive_results_5_emb_512_persona.json\n",
      "[2025-10-03 06:15:35,402] [INFO] N=200 | F1=0.497[0.432,0.563] | unknown_rate=0.055\n",
      "[2025-10-03 06:15:35,416] [INFO] HF SQuAD | EM=42.50% | F1=49.84%\n",
      "[2025-10-03 06:15:35,419] [INFO] Appended to ../results/comparison_analysis.csv: {'tag': 'top_5_emb_512_persona', 'n': 200, 'f1_mean': 0.4974510934001717, 'unknown_rate': 0.055, 'f1_lo': 0.43215458236585164, 'f1_hi': 0.5627476044344917, 'em_mean': 0.425, 'hf_f1': 0.49836195872250066}\n",
      "[2025-10-03 06:15:35,557] [INFO] Loaded passages: 3114\n",
      "[2025-10-03 06:15:35,557] [INFO] Encoding 3114 passages with sentence-transformers/all-MiniLM-L6-v2 ...\n"
     ]
    },
    {
     "data": {
      "application/vnd.jupyter.widget-view+json": {
       "model_id": "ae8026354ef742b2943fe13470e293a8",
       "version_major": 2,
       "version_minor": 0
      },
      "text/plain": [
       "Batches:   0%|          | 0/312 [00:00<?, ?it/s]"
      ]
     },
     "metadata": {},
     "output_type": "display_data"
    },
    {
     "name": "stderr",
     "output_type": "stream",
     "text": [
      "[2025-10-03 06:15:43,719] [INFO] Embeddings shape: (3114, 384)\n",
      "[2025-10-03 06:15:44,628] [INFO] Loaded queries: 200\n"
     ]
    },
    {
     "name": "stdout",
     "output_type": "stream",
     "text": [
      "Entity count: 3114\n",
      "Collection schema: {'collection_name': 'rag_mini', 'auto_id': False, 'num_shards': 0, 'description': 'RAG passages (id, passage, embedding)', 'fields': [{'field_id': 100, 'name': 'id', 'description': '', 'type': <DataType.INT64: 5>, 'params': {}, 'is_primary': True}, {'field_id': 101, 'name': 'passage', 'description': '', 'type': <DataType.VARCHAR: 21>, 'params': {'max_length': 4096}}, {'field_id': 102, 'name': 'embedding', 'description': '', 'type': <DataType.FLOAT_VECTOR: 101>, 'params': {'dim': 384}}], 'functions': [], 'aliases': [], 'collection_id': 0, 'consistency_level': 0, 'properties': {}, 'num_partitions': 0, 'enable_dynamic_field': True}\n"
     ]
    },
    {
     "name": "stderr",
     "output_type": "stream",
     "text": [
      "100%|██████████| 200/200 [00:00<00:00, 812849.61it/s]\n",
      "[2025-10-03 06:16:21,398] [INFO] Wrote results to ../results/naive_results_10_emb_512_instruction.json\n",
      "[2025-10-03 06:16:21,402] [INFO] N=200 | F1=0.443[0.378,0.508] | unknown_rate=0.155\n",
      "[2025-10-03 06:16:21,417] [INFO] HF SQuAD | EM=37.00% | F1=44.37%\n",
      "[2025-10-03 06:16:21,421] [INFO] Appended to ../results/comparison_analysis.csv: {'tag': 'top_10_emb_512_instruction', 'n': 200, 'f1_mean': 0.4428235916748713, 'unknown_rate': 0.155, 'f1_lo': 0.3780875183444191, 'f1_hi': 0.5075596650053235, 'em_mean': 0.37, 'hf_f1': 0.443734456997173}\n",
      "[2025-10-03 06:16:21,561] [INFO] Loaded passages: 3114\n",
      "[2025-10-03 06:16:21,562] [INFO] Encoding 3114 passages with sentence-transformers/all-MiniLM-L6-v2 ...\n"
     ]
    },
    {
     "data": {
      "application/vnd.jupyter.widget-view+json": {
       "model_id": "447a5fc5042b4542b89076941627e8f2",
       "version_major": 2,
       "version_minor": 0
      },
      "text/plain": [
       "Batches:   0%|          | 0/312 [00:00<?, ?it/s]"
      ]
     },
     "metadata": {},
     "output_type": "display_data"
    },
    {
     "name": "stderr",
     "output_type": "stream",
     "text": [
      "[2025-10-03 06:16:29,443] [INFO] Embeddings shape: (3114, 384)\n",
      "[2025-10-03 06:16:30,354] [INFO] Loaded queries: 200\n"
     ]
    },
    {
     "name": "stdout",
     "output_type": "stream",
     "text": [
      "Entity count: 3114\n",
      "Collection schema: {'collection_name': 'rag_mini', 'auto_id': False, 'num_shards': 0, 'description': 'RAG passages (id, passage, embedding)', 'fields': [{'field_id': 100, 'name': 'id', 'description': '', 'type': <DataType.INT64: 5>, 'params': {}, 'is_primary': True}, {'field_id': 101, 'name': 'passage', 'description': '', 'type': <DataType.VARCHAR: 21>, 'params': {'max_length': 4096}}, {'field_id': 102, 'name': 'embedding', 'description': '', 'type': <DataType.FLOAT_VECTOR: 101>, 'params': {'dim': 384}}], 'functions': [], 'aliases': [], 'collection_id': 0, 'consistency_level': 0, 'properties': {}, 'num_partitions': 0, 'enable_dynamic_field': True}\n"
     ]
    },
    {
     "name": "stderr",
     "output_type": "stream",
     "text": [
      "100%|██████████| 200/200 [00:00<00:00, 975419.53it/s]\n",
      "[2025-10-03 06:17:08,530] [INFO] Wrote results to ../results/naive_results_10_emb_512_cot.json\n",
      "[2025-10-03 06:17:08,534] [INFO] N=200 | F1=0.489[0.424,0.554] | unknown_rate=0.020\n",
      "[2025-10-03 06:17:08,546] [INFO] HF SQuAD | EM=41.50% | F1=49.01%\n",
      "[2025-10-03 06:17:08,548] [INFO] Appended to ../results/comparison_analysis.csv: {'tag': 'top_10_emb_512_cot', 'n': 200, 'f1_mean': 0.48915347435255335, 'unknown_rate': 0.02, 'f1_lo': 0.4241258003847635, 'f1_hi': 0.5541811483203432, 'em_mean': 0.415, 'hf_f1': 0.4900643396748817}\n",
      "[2025-10-03 06:17:08,685] [INFO] Loaded passages: 3114\n",
      "[2025-10-03 06:17:08,686] [INFO] Encoding 3114 passages with sentence-transformers/all-MiniLM-L6-v2 ...\n"
     ]
    },
    {
     "data": {
      "application/vnd.jupyter.widget-view+json": {
       "model_id": "f064f58cf49345308de8120b7f3d20c0",
       "version_major": 2,
       "version_minor": 0
      },
      "text/plain": [
       "Batches:   0%|          | 0/312 [00:00<?, ?it/s]"
      ]
     },
     "metadata": {},
     "output_type": "display_data"
    },
    {
     "name": "stderr",
     "output_type": "stream",
     "text": [
      "[2025-10-03 06:17:17,716] [INFO] Embeddings shape: (3114, 384)\n",
      "[2025-10-03 06:17:18,681] [INFO] Loaded queries: 200\n"
     ]
    },
    {
     "name": "stdout",
     "output_type": "stream",
     "text": [
      "Entity count: 3114\n",
      "Collection schema: {'collection_name': 'rag_mini', 'auto_id': False, 'num_shards': 0, 'description': 'RAG passages (id, passage, embedding)', 'fields': [{'field_id': 100, 'name': 'id', 'description': '', 'type': <DataType.INT64: 5>, 'params': {}, 'is_primary': True}, {'field_id': 101, 'name': 'passage', 'description': '', 'type': <DataType.VARCHAR: 21>, 'params': {'max_length': 4096}}, {'field_id': 102, 'name': 'embedding', 'description': '', 'type': <DataType.FLOAT_VECTOR: 101>, 'params': {'dim': 384}}], 'functions': [], 'aliases': [], 'collection_id': 0, 'consistency_level': 0, 'properties': {}, 'num_partitions': 0, 'enable_dynamic_field': True}\n"
     ]
    },
    {
     "name": "stderr",
     "output_type": "stream",
     "text": [
      "100%|██████████| 200/200 [00:00<00:00, 943600.45it/s]\n",
      "[2025-10-03 06:17:55,303] [INFO] Wrote results to ../results/naive_results_10_emb_512_persona.json\n",
      "[2025-10-03 06:17:55,307] [INFO] N=200 | F1=0.497[0.432,0.563] | unknown_rate=0.055\n",
      "[2025-10-03 06:17:55,318] [INFO] HF SQuAD | EM=42.50% | F1=49.84%\n",
      "[2025-10-03 06:17:55,321] [INFO] Appended to ../results/comparison_analysis.csv: {'tag': 'top_10_emb_512_persona', 'n': 200, 'f1_mean': 0.4974510934001717, 'unknown_rate': 0.055, 'f1_lo': 0.43215458236585164, 'f1_hi': 0.5627476044344917, 'em_mean': 0.425, 'hf_f1': 0.49836195872250066}\n"
     ]
    }
   ],
   "source": [
    "for emb_size in [256, 384, 512]:\n",
    "    for ret_docs in [3, 5, 10]:\n",
    "        for strat in [\"instruction\",\"cot\",\"persona\"]:\n",
    "\n",
    "            args = Namespace(\n",
    "                passages_uri=str(PASSAGES),\n",
    "                queries_uri=str(QUERIES),\n",
    "                embed_model=\"sentence-transformers/all-MiniLM-L6-v2\",\n",
    "                gen_model=\"google/flan-t5-base\",\n",
    "                embed_batch_size=ret_docs,\n",
    "                top_k=1,\n",
    "                max_new_tokens=emb_size,\n",
    "                temperature=0.0,\n",
    "                max_queries=200,    \n",
    "                output_file=f\"naive_results_{ret_docs}_emb_{emb_size}_{strat}.json\",\n",
    "                seed=42,\n",
    "                milvus_db_path=str(DBFILE),\n",
    "                milvus_collection=\"rag_mini\",\n",
    "                milvus_drop=True,  \n",
    "                milvus_index_type=\"IVF_FLAT\",\n",
    "                milvus_metric=\"IP\",\n",
    "                prompt=prompt_strategies[strat]\n",
    "            )\n",
    "\n",
    "\n",
    "            naive_rag.run(args)\n",
    "\n",
    "            evalmod.evaluate_once(\n",
    "                results_path=str(OUTDIR / f\"naive_results_{ret_docs}_emb_{emb_size}_{strat}.json\"),\n",
    "                tag=f\"top_{ret_docs}_emb_{emb_size}_{strat}\"\n",
    "            )\n",
    "        "
   ]
  },
  {
   "cell_type": "markdown",
   "id": "a2c9443d",
   "metadata": {},
   "source": [
    "\n",
    "## Step 5 & 6: RAGAs (faithfulness & retrieval quality)\n"
   ]
  },
  {
   "cell_type": "code",
   "execution_count": 11,
   "id": "60b2d612",
   "metadata": {},
   "outputs": [
    {
     "name": "stderr",
     "output_type": "stream",
     "text": [
      "[2025-10-03 06:17:55,483] [INFO] Loaded passages=3114 queries=200\n",
      "[2025-10-03 06:17:55,483] [INFO] Encoding 3114 passages with sentence-transformers/all-MiniLM-L6-v2 ...\n"
     ]
    },
    {
     "data": {
      "application/vnd.jupyter.widget-view+json": {
       "model_id": "941b9740cca54f5581413eb74b21b5f6",
       "version_major": 2,
       "version_minor": 0
      },
      "text/plain": [
       "Batches:   0%|          | 0/25 [00:00<?, ?it/s]"
      ]
     },
     "metadata": {},
     "output_type": "display_data"
    },
    {
     "name": "stderr",
     "output_type": "stream",
     "text": [
      "[2025-10-03 06:18:02,635] [INFO] Embeddings shape: (3114, 384)\n",
      "[2025-10-03 06:18:03,578] [INFO] Loading CrossEncoder: BAAI/bge-reranker-base\n"
     ]
    },
    {
     "name": "stdout",
     "output_type": "stream",
     "text": [
      "Entity count: 3114\n",
      "Collection schema: {'collection_name': 'rag_enhanced_top5', 'auto_id': False, 'num_shards': 0, 'description': 'RAG passages (id, passage, embedding)', 'fields': [{'field_id': 100, 'name': 'id', 'description': '', 'type': <DataType.INT64: 5>, 'params': {}, 'is_primary': True}, {'field_id': 101, 'name': 'passage', 'description': '', 'type': <DataType.VARCHAR: 21>, 'params': {'max_length': 4096}}, {'field_id': 102, 'name': 'embedding', 'description': '', 'type': <DataType.FLOAT_VECTOR: 101>, 'params': {'dim': 384}}], 'functions': [], 'aliases': [], 'collection_id': 0, 'consistency_level': 0, 'properties': {}, 'num_partitions': 0, 'enable_dynamic_field': True}\n"
     ]
    },
    {
     "name": "stderr",
     "output_type": "stream",
     "text": [
      "100%|██████████| 200/200 [07:36<00:00,  2.28s/it]\n",
      "[2025-10-03 06:25:42,827] [INFO] Wrote enhanced results to ../results/enhanced_results_baseline_top5.json\n",
      "[2025-10-03 06:25:42,843] [INFO] N=200 | F1=0.090[0.054,0.127] | unknown_rate=0.545\n",
      "[2025-10-03 06:25:42,858] [INFO] HF SQuAD | EM=6.50% | F1=9.10%\n",
      "[2025-10-03 06:25:42,861] [INFO] Appended to ../results/comparison_analysis.csv: {'tag': 'enhanced_top5_persona_rerank', 'n': 200, 'f1_mean': 0.09040029385639127, 'unknown_rate': 0.545, 'f1_lo': 0.05413691067911971, 'f1_hi': 0.12666367703366282, 'em_mean': 0.065, 'hf_f1': 0.09099614276934323}\n"
     ]
    },
    {
     "data": {
      "text/html": [
       "<div>\n",
       "<style scoped>\n",
       "    .dataframe tbody tr th:only-of-type {\n",
       "        vertical-align: middle;\n",
       "    }\n",
       "\n",
       "    .dataframe tbody tr th {\n",
       "        vertical-align: top;\n",
       "    }\n",
       "\n",
       "    .dataframe thead th {\n",
       "        text-align: right;\n",
       "    }\n",
       "</style>\n",
       "<table border=\"1\" class=\"dataframe\">\n",
       "  <thead>\n",
       "    <tr style=\"text-align: right;\">\n",
       "      <th></th>\n",
       "      <th>qid</th>\n",
       "      <th>f1</th>\n",
       "      <th>unknown</th>\n",
       "    </tr>\n",
       "  </thead>\n",
       "  <tbody>\n",
       "    <tr>\n",
       "      <th>0</th>\n",
       "      <td>0</td>\n",
       "      <td>0.000000</td>\n",
       "      <td>1</td>\n",
       "    </tr>\n",
       "    <tr>\n",
       "      <th>1</th>\n",
       "      <td>2</td>\n",
       "      <td>0.000000</td>\n",
       "      <td>1</td>\n",
       "    </tr>\n",
       "    <tr>\n",
       "      <th>2</th>\n",
       "      <td>4</td>\n",
       "      <td>0.000000</td>\n",
       "      <td>1</td>\n",
       "    </tr>\n",
       "    <tr>\n",
       "      <th>3</th>\n",
       "      <td>6</td>\n",
       "      <td>0.000000</td>\n",
       "      <td>1</td>\n",
       "    </tr>\n",
       "    <tr>\n",
       "      <th>4</th>\n",
       "      <td>8</td>\n",
       "      <td>0.000000</td>\n",
       "      <td>1</td>\n",
       "    </tr>\n",
       "    <tr>\n",
       "      <th>...</th>\n",
       "      <td>...</td>\n",
       "      <td>...</td>\n",
       "      <td>...</td>\n",
       "    </tr>\n",
       "    <tr>\n",
       "      <th>195</th>\n",
       "      <td>436</td>\n",
       "      <td>0.000000</td>\n",
       "      <td>1</td>\n",
       "    </tr>\n",
       "    <tr>\n",
       "      <th>196</th>\n",
       "      <td>438</td>\n",
       "      <td>1.000000</td>\n",
       "      <td>0</td>\n",
       "    </tr>\n",
       "    <tr>\n",
       "      <th>197</th>\n",
       "      <td>440</td>\n",
       "      <td>0.000000</td>\n",
       "      <td>1</td>\n",
       "    </tr>\n",
       "    <tr>\n",
       "      <th>198</th>\n",
       "      <td>442</td>\n",
       "      <td>0.000000</td>\n",
       "      <td>1</td>\n",
       "    </tr>\n",
       "    <tr>\n",
       "      <th>199</th>\n",
       "      <td>444</td>\n",
       "      <td>0.888889</td>\n",
       "      <td>0</td>\n",
       "    </tr>\n",
       "  </tbody>\n",
       "</table>\n",
       "<p>200 rows × 3 columns</p>\n",
       "</div>"
      ],
      "text/plain": [
       "     qid        f1  unknown\n",
       "0      0  0.000000        1\n",
       "1      2  0.000000        1\n",
       "2      4  0.000000        1\n",
       "3      6  0.000000        1\n",
       "4      8  0.000000        1\n",
       "..   ...       ...      ...\n",
       "195  436  0.000000        1\n",
       "196  438  1.000000        0\n",
       "197  440  0.000000        1\n",
       "198  442  0.000000        1\n",
       "199  444  0.888889        0\n",
       "\n",
       "[200 rows x 3 columns]"
      ]
     },
     "execution_count": 11,
     "metadata": {},
     "output_type": "execute_result"
    }
   ],
   "source": [
    "import importlib\n",
    "\n",
    "args_enh = Namespace(\n",
    "    passages_uri=str(PASSAGES),\n",
    "    queries_uri=str(QUERIES),\n",
    "    embed_model=\"sentence-transformers/all-MiniLM-L6-v2\",\n",
    "    gen_model=\"google/flan-t5-base\",\n",
    "    embed_batch_size=128,\n",
    "    retrieve_candidates=50,     \n",
    "    top_k=5,                    \n",
    "    rerank_model=\"BAAI/bge-reranker-base\",\n",
    "    rerank_max_length=512,\n",
    "    min_conf=0.25,              \n",
    "    min_margin=0.05,\n",
    "    abstain_on_low_conf=True,\n",
    "    max_new_tokens=128,\n",
    "    temperature=0.0,\n",
    "    max_queries=200,\n",
    "    output_file=\"enhanced_results_baseline_top5.json\",\n",
    "    seed=42,\n",
    "    milvus_db_path=str(DBFILE),\n",
    "    milvus_collection=\"rag_enhanced_top5\",\n",
    "    milvus_drop=True,\n",
    "    milvus_index_type=\"IVF_FLAT\",\n",
    "    milvus_metric=\"IP\",\n",
    "    prompt=utils.DEFAULT_SYSTEM_PROMPT\n",
    ")\n",
    "\n",
    "importlib.reload(enhanced_rag)\n",
    "enhanced_rag.run(args_enh)\n",
    "\n",
    "enhanced_path = OUTDIR / args_enh.output_file\n",
    "evalmod.evaluate_once(\n",
    "    results_path=str(enhanced_path),\n",
    "    tag=\"enhanced_top5_persona_rerank\"\n",
    ")"
   ]
  },
  {
   "cell_type": "code",
   "execution_count": 40,
   "id": "54cc0786",
   "metadata": {},
   "outputs": [
    {
     "data": {
      "text/plain": [
       "{'naive_top1_instruction': PosixPath('/Users/diegoalejandrobermudezsierra/Desktop/CMU/Courses/Third Semester/Mini 1/Application of NLX/HW/assignment2-rag/results/naive_results_instruction.json'),\n",
       " 'naive_top1_cot': PosixPath('/Users/diegoalejandrobermudezsierra/Desktop/CMU/Courses/Third Semester/Mini 1/Application of NLX/HW/assignment2-rag/results/naive_results_cot.json'),\n",
       " 'naive_top1_persona': PosixPath('/Users/diegoalejandrobermudezsierra/Desktop/CMU/Courses/Third Semester/Mini 1/Application of NLX/HW/assignment2-rag/results/naive_results_persona.json'),\n",
       " 'enhanced_top5_persona_rerank': PosixPath('/Users/diegoalejandrobermudezsierra/Desktop/CMU/Courses/Third Semester/Mini 1/Application of NLX/HW/assignment2-rag/results/enhanced_results_baseline_top5.json')}"
      ]
     },
     "execution_count": 40,
     "metadata": {},
     "output_type": "execute_result"
    }
   ],
   "source": [
    "# Map tags -> results json paths you want to score with RAGAs\n",
    "runs = {\n",
    "    \"naive_top1_instruction\": OUTDIR / \"naive_results_instruction.json\",\n",
    "    \"naive_top1_cot\":         OUTDIR / \"naive_results_cot.json\",\n",
    "    \"naive_top1_persona\":     OUTDIR / \"naive_results_persona.json\",\n",
    "   \"enhanced_top5_persona_rerank\": OUTDIR / \"enhanced_results_baseline_top5.json\",\n",
    "}\n",
    "\n",
    "runs"
   ]
  },
  {
   "cell_type": "code",
   "execution_count": null,
   "id": "64c4c376",
   "metadata": {},
   "outputs": [
    {
     "name": "stdout",
     "output_type": "stream",
     "text": [
      "--- RAGAs evaluating: naive_top1_instruction ---\n"
     ]
    },
    {
     "data": {
      "application/vnd.jupyter.widget-view+json": {
       "model_id": "4b03e468007f4ba8bf125d4ac4b758e0",
       "version_major": 2,
       "version_minor": 0
      },
      "text/plain": [
       "Evaluating:   0%|          | 0/200 [00:00<?, ?it/s]"
      ]
     },
     "metadata": {},
     "output_type": "display_data"
    },
    {
     "name": "stderr",
     "output_type": "stream",
     "text": [
      "Exception raised in Job[0]: TimeoutError()\n",
      "Exception raised in Job[6]: TimeoutError()\n",
      "Exception raised in Job[8]: TimeoutError()\n",
      "Exception raised in Job[16]: TimeoutError()\n",
      "Exception raised in Job[20]: TimeoutError()\n",
      "Exception raised in Job[29]: TimeoutError()\n",
      "Exception raised in Job[48]: TimeoutError()\n",
      "Exception raised in Job[76]: TimeoutError()\n",
      "Exception raised in Job[80]: TimeoutError()\n",
      "Exception raised in Job[88]: TimeoutError()\n",
      "Exception raised in Job[89]: TimeoutError()\n",
      "Exception raised in Job[96]: TimeoutError()\n",
      "Exception raised in Job[102]: TimeoutError()\n",
      "Exception raised in Job[147]: IndexError(list index out of range)\n",
      "Exception raised in Job[136]: TimeoutError()\n",
      "Exception raised in Job[140]: TimeoutError()\n",
      "Exception raised in Job[159]: IndexError(list index out of range)\n",
      "Exception raised in Job[173]: TimeoutError()\n",
      "Exception raised in Job[174]: TimeoutError()\n"
     ]
    },
    {
     "data": {
      "application/vnd.jupyter.widget-view+json": {
       "model_id": "be06471dec9a4742a06fc5df03531285",
       "version_major": 2,
       "version_minor": 0
      },
      "text/plain": [
       "Evaluating:   0%|          | 0/200 [00:00<?, ?it/s]"
      ]
     },
     "metadata": {},
     "output_type": "display_data"
    },
    {
     "name": "stderr",
     "output_type": "stream",
     "text": [
      "Exception raised in Job[2]: TimeoutError()\n",
      "Exception raised in Job[32]: TimeoutError()\n",
      "Exception raised in Job[44]: TimeoutError()\n",
      "Exception raised in Job[60]: TimeoutError()\n",
      "Exception raised in Job[99]: IndexError(list index out of range)\n",
      "Exception raised in Job[76]: TimeoutError()\n",
      "Exception raised in Job[97]: TimeoutError()\n",
      "Exception raised in Job[100]: TimeoutError()\n",
      "Exception raised in Job[115]: TimeoutError()\n",
      "Exception raised in Job[120]: TimeoutError()\n",
      "Exception raised in Job[138]: TimeoutError()\n",
      "Exception raised in Job[167]: TimeoutError()\n",
      "Exception raised in Job[176]: TimeoutError()\n",
      "Exception raised in Job[180]: TimeoutError()\n",
      "Exception raised in Job[188]: TimeoutError()\n",
      "Exception raised in Job[195]: TimeoutError()\n"
     ]
    },
    {
     "data": {
      "application/vnd.jupyter.widget-view+json": {
       "model_id": "e4f897a06fff4a8f8a6ff08608b71493",
       "version_major": 2,
       "version_minor": 0
      },
      "text/plain": [
       "Evaluating:   0%|          | 0/200 [00:00<?, ?it/s]"
      ]
     },
     "metadata": {},
     "output_type": "display_data"
    },
    {
     "name": "stderr",
     "output_type": "stream",
     "text": [
      "Exception raised in Job[0]: TimeoutError()\n",
      "Exception raised in Job[15]: TimeoutError()\n",
      "Exception raised in Job[51]: IndexError(list index out of range)\n",
      "Exception raised in Job[38]: TimeoutError()\n",
      "Exception raised in Job[42]: TimeoutError()\n",
      "Exception raised in Job[54]: TimeoutError()\n",
      "Exception raised in Job[55]: TimeoutError()\n",
      "Exception raised in Job[79]: IndexError(list index out of range)\n",
      "Exception raised in Job[76]: TimeoutError()\n",
      "Exception raised in Job[88]: TimeoutError()\n",
      "Exception raised in Job[96]: TimeoutError()\n",
      "Exception raised in Job[107]: IndexError(list index out of range)\n"
     ]
    },
    {
     "ename": "KeyboardInterrupt",
     "evalue": "",
     "output_type": "error",
     "traceback": [
      "\u001b[0;31m---------------------------------------------------------------------------\u001b[0m",
      "\u001b[0;31mKeyboardInterrupt\u001b[0m                         Traceback (most recent call last)",
      "Cell \u001b[0;32mIn[42], line 23\u001b[0m\n\u001b[1;32m     21\u001b[0m \u001b[38;5;28;01mfor\u001b[39;00m tag, path \u001b[38;5;129;01min\u001b[39;00m runs\u001b[38;5;241m.\u001b[39mitems():\n\u001b[1;32m     22\u001b[0m     \u001b[38;5;28mprint\u001b[39m(\u001b[38;5;124mf\u001b[39m\u001b[38;5;124m\"\u001b[39m\u001b[38;5;124m--- RAGAs evaluating: \u001b[39m\u001b[38;5;132;01m{\u001b[39;00mtag\u001b[38;5;132;01m}\u001b[39;00m\u001b[38;5;124m ---\u001b[39m\u001b[38;5;124m\"\u001b[39m)\n\u001b[0;32m---> 23\u001b[0m     s \u001b[38;5;241m=\u001b[39m \u001b[43mragas_evaluation\u001b[49m\u001b[38;5;241;43m.\u001b[39;49m\u001b[43meval_one\u001b[49m\u001b[43m(\u001b[49m\n\u001b[1;32m     24\u001b[0m \u001b[43m        \u001b[49m\u001b[43mresults_json\u001b[49m\u001b[38;5;241;43m=\u001b[39;49m\u001b[38;5;28;43mstr\u001b[39;49m\u001b[43m(\u001b[49m\u001b[43mpath\u001b[49m\u001b[43m)\u001b[49m\u001b[43m,\u001b[49m\n\u001b[1;32m     25\u001b[0m \u001b[43m        \u001b[49m\u001b[43mpassages_csv\u001b[49m\u001b[38;5;241;43m=\u001b[39;49m\u001b[38;5;28;43mstr\u001b[39;49m\u001b[43m(\u001b[49m\u001b[43mPASSAGES\u001b[49m\u001b[43m)\u001b[49m\u001b[43m,\u001b[49m\n\u001b[1;32m     26\u001b[0m \u001b[43m        \u001b[49m\u001b[43mtag\u001b[49m\u001b[38;5;241;43m=\u001b[39;49m\u001b[43mtag\u001b[49m\u001b[43m,\u001b[49m\n\u001b[1;32m     27\u001b[0m \u001b[43m        \u001b[49m\u001b[43mout_dir\u001b[49m\u001b[38;5;241;43m=\u001b[39;49m\u001b[38;5;28;43mstr\u001b[39;49m\u001b[43m(\u001b[49m\u001b[43mOUTDIR\u001b[49m\u001b[43m)\u001b[49m\u001b[43m,\u001b[49m\n\u001b[1;32m     28\u001b[0m \u001b[43m        \u001b[49m\u001b[43mmodel_name\u001b[49m\u001b[38;5;241;43m=\u001b[39;49m\u001b[43mRAGAS_JUDGE_MODEL\u001b[49m\u001b[43m,\u001b[49m\n\u001b[1;32m     29\u001b[0m \u001b[43m    \u001b[49m\u001b[43m)\u001b[49m\n\u001b[1;32m     30\u001b[0m     summaries\u001b[38;5;241m.\u001b[39mappend(s)\n\u001b[1;32m     32\u001b[0m \u001b[38;5;28;01mimport\u001b[39;00m\u001b[38;5;250m \u001b[39m\u001b[38;5;21;01mpandas\u001b[39;00m\u001b[38;5;250m \u001b[39m\u001b[38;5;28;01mas\u001b[39;00m\u001b[38;5;250m \u001b[39m\u001b[38;5;21;01mpd\u001b[39;00m\n",
      "File \u001b[0;32m~/Desktop/CMU/Courses/Third Semester/Mini 1/Application of NLX/HW/assignment2-rag/src/ragas_evaluation.py:123\u001b[0m, in \u001b[0;36meval_one\u001b[0;34m(results_json, passages_csv, tag, out_dir, model_name)\u001b[0m\n\u001b[1;32m    121\u001b[0m sub \u001b[38;5;241m=\u001b[39m ds\u001b[38;5;241m.\u001b[39mselect(\u001b[38;5;28mrange\u001b[39m(start, end))\n\u001b[1;32m    122\u001b[0m \u001b[38;5;28;01mtry\u001b[39;00m:\n\u001b[0;32m--> 123\u001b[0m     res \u001b[38;5;241m=\u001b[39m \u001b[43mragas_evaluate\u001b[49m\u001b[43m(\u001b[49m\u001b[43msub\u001b[49m\u001b[43m,\u001b[49m\u001b[43m \u001b[49m\u001b[43mmetrics\u001b[49m\u001b[38;5;241;43m=\u001b[39;49m\u001b[43mmetrics\u001b[49m\u001b[43m,\u001b[49m\u001b[43m \u001b[49m\u001b[43mllm\u001b[49m\u001b[38;5;241;43m=\u001b[39;49m\u001b[43mllm\u001b[49m\u001b[43m)\u001b[49m\n\u001b[1;32m    124\u001b[0m     \u001b[38;5;66;03m# Prefer per-example frame then mean (avoids float(list) issues)\u001b[39;00m\n\u001b[1;32m    125\u001b[0m     pdf \u001b[38;5;241m=\u001b[39m res\u001b[38;5;241m.\u001b[39mto_pandas()\n",
      "File \u001b[0;32m/opt/anaconda3/envs/llm_env/lib/python3.10/site-packages/ragas/_analytics.py:277\u001b[0m, in \u001b[0;36mtrack_was_completed.<locals>.wrapper\u001b[0;34m(*args, **kwargs)\u001b[0m\n\u001b[1;32m    274\u001b[0m \u001b[38;5;129m@wraps\u001b[39m(func)\n\u001b[1;32m    275\u001b[0m \u001b[38;5;28;01mdef\u001b[39;00m\u001b[38;5;250m \u001b[39m\u001b[38;5;21mwrapper\u001b[39m(\u001b[38;5;241m*\u001b[39margs: P\u001b[38;5;241m.\u001b[39margs, \u001b[38;5;241m*\u001b[39m\u001b[38;5;241m*\u001b[39mkwargs: P\u001b[38;5;241m.\u001b[39mkwargs) \u001b[38;5;241m-\u001b[39m\u001b[38;5;241m>\u001b[39m T:\n\u001b[1;32m    276\u001b[0m     track(IsCompleteEvent(event_type\u001b[38;5;241m=\u001b[39mfunc\u001b[38;5;241m.\u001b[39m\u001b[38;5;18m__name__\u001b[39m, is_completed\u001b[38;5;241m=\u001b[39m\u001b[38;5;28;01mFalse\u001b[39;00m))\n\u001b[0;32m--> 277\u001b[0m     result \u001b[38;5;241m=\u001b[39m \u001b[43mfunc\u001b[49m\u001b[43m(\u001b[49m\u001b[38;5;241;43m*\u001b[39;49m\u001b[43margs\u001b[49m\u001b[43m,\u001b[49m\u001b[43m \u001b[49m\u001b[38;5;241;43m*\u001b[39;49m\u001b[38;5;241;43m*\u001b[39;49m\u001b[43mkwargs\u001b[49m\u001b[43m)\u001b[49m\n\u001b[1;32m    278\u001b[0m     track(IsCompleteEvent(event_type\u001b[38;5;241m=\u001b[39mfunc\u001b[38;5;241m.\u001b[39m\u001b[38;5;18m__name__\u001b[39m, is_completed\u001b[38;5;241m=\u001b[39m\u001b[38;5;28;01mTrue\u001b[39;00m))\n\u001b[1;32m    280\u001b[0m     \u001b[38;5;28;01mreturn\u001b[39;00m result\n",
      "File \u001b[0;32m/opt/anaconda3/envs/llm_env/lib/python3.10/site-packages/ragas/evaluation.py:317\u001b[0m, in \u001b[0;36mevaluate\u001b[0;34m(dataset, metrics, llm, embeddings, experiment_name, callbacks, run_config, token_usage_parser, raise_exceptions, column_map, show_progress, batch_size, _run_id, _pbar, return_executor)\u001b[0m\n\u001b[1;32m    314\u001b[0m scores: t\u001b[38;5;241m.\u001b[39mList[t\u001b[38;5;241m.\u001b[39mDict[\u001b[38;5;28mstr\u001b[39m, t\u001b[38;5;241m.\u001b[39mAny]] \u001b[38;5;241m=\u001b[39m []\n\u001b[1;32m    315\u001b[0m \u001b[38;5;28;01mtry\u001b[39;00m:\n\u001b[1;32m    316\u001b[0m     \u001b[38;5;66;03m# get the results\u001b[39;00m\n\u001b[0;32m--> 317\u001b[0m     results \u001b[38;5;241m=\u001b[39m \u001b[43mexecutor\u001b[49m\u001b[38;5;241;43m.\u001b[39;49m\u001b[43mresults\u001b[49m\u001b[43m(\u001b[49m\u001b[43m)\u001b[49m\n\u001b[1;32m    318\u001b[0m     \u001b[38;5;28;01mif\u001b[39;00m results \u001b[38;5;241m==\u001b[39m []:\n\u001b[1;32m    319\u001b[0m         \u001b[38;5;28;01mraise\u001b[39;00m ExceptionInRunner()\n",
      "File \u001b[0;32m/opt/anaconda3/envs/llm_env/lib/python3.10/site-packages/ragas/executor.py:215\u001b[0m, in \u001b[0;36mExecutor.results\u001b[0;34m(self)\u001b[0m\n\u001b[1;32m    212\u001b[0m     \u001b[38;5;28;01mreturn\u001b[39;00m \u001b[38;5;28;01mawait\u001b[39;00m \u001b[38;5;28mself\u001b[39m\u001b[38;5;241m.\u001b[39maresults()\n\u001b[1;32m    214\u001b[0m apply_nest_asyncio()\n\u001b[0;32m--> 215\u001b[0m \u001b[38;5;28;01mreturn\u001b[39;00m \u001b[43mrun\u001b[49m\u001b[43m(\u001b[49m\u001b[43m_async_wrapper\u001b[49m\u001b[43m)\u001b[49m\n",
      "File \u001b[0;32m/opt/anaconda3/envs/llm_env/lib/python3.10/site-packages/ragas/async_utils.py:116\u001b[0m, in \u001b[0;36mrun\u001b[0;34m(async_func)\u001b[0m\n\u001b[1;32m    114\u001b[0m \u001b[38;5;66;03m# Create the coroutine if it's a callable, otherwise use directly\u001b[39;00m\n\u001b[1;32m    115\u001b[0m coro \u001b[38;5;241m=\u001b[39m async_func() \u001b[38;5;28;01mif\u001b[39;00m \u001b[38;5;28mcallable\u001b[39m(async_func) \u001b[38;5;28;01melse\u001b[39;00m async_func\n\u001b[0;32m--> 116\u001b[0m \u001b[38;5;28;01mreturn\u001b[39;00m \u001b[43masyncio\u001b[49m\u001b[38;5;241;43m.\u001b[39;49m\u001b[43mrun\u001b[49m\u001b[43m(\u001b[49m\u001b[43mcoro\u001b[49m\u001b[43m)\u001b[49m\n",
      "File \u001b[0;32m/opt/anaconda3/envs/llm_env/lib/python3.10/site-packages/nest_asyncio.py:30\u001b[0m, in \u001b[0;36m_patch_asyncio.<locals>.run\u001b[0;34m(main, debug)\u001b[0m\n\u001b[1;32m     28\u001b[0m task \u001b[38;5;241m=\u001b[39m asyncio\u001b[38;5;241m.\u001b[39mensure_future(main)\n\u001b[1;32m     29\u001b[0m \u001b[38;5;28;01mtry\u001b[39;00m:\n\u001b[0;32m---> 30\u001b[0m     \u001b[38;5;28;01mreturn\u001b[39;00m \u001b[43mloop\u001b[49m\u001b[38;5;241;43m.\u001b[39;49m\u001b[43mrun_until_complete\u001b[49m\u001b[43m(\u001b[49m\u001b[43mtask\u001b[49m\u001b[43m)\u001b[49m\n\u001b[1;32m     31\u001b[0m \u001b[38;5;28;01mfinally\u001b[39;00m:\n\u001b[1;32m     32\u001b[0m     \u001b[38;5;28;01mif\u001b[39;00m \u001b[38;5;129;01mnot\u001b[39;00m task\u001b[38;5;241m.\u001b[39mdone():\n",
      "File \u001b[0;32m/opt/anaconda3/envs/llm_env/lib/python3.10/site-packages/nest_asyncio.py:92\u001b[0m, in \u001b[0;36m_patch_loop.<locals>.run_until_complete\u001b[0;34m(self, future)\u001b[0m\n\u001b[1;32m     90\u001b[0m     f\u001b[38;5;241m.\u001b[39m_log_destroy_pending \u001b[38;5;241m=\u001b[39m \u001b[38;5;28;01mFalse\u001b[39;00m\n\u001b[1;32m     91\u001b[0m \u001b[38;5;28;01mwhile\u001b[39;00m \u001b[38;5;129;01mnot\u001b[39;00m f\u001b[38;5;241m.\u001b[39mdone():\n\u001b[0;32m---> 92\u001b[0m     \u001b[38;5;28;43mself\u001b[39;49m\u001b[38;5;241;43m.\u001b[39;49m\u001b[43m_run_once\u001b[49m\u001b[43m(\u001b[49m\u001b[43m)\u001b[49m\n\u001b[1;32m     93\u001b[0m     \u001b[38;5;28;01mif\u001b[39;00m \u001b[38;5;28mself\u001b[39m\u001b[38;5;241m.\u001b[39m_stopping:\n\u001b[1;32m     94\u001b[0m         \u001b[38;5;28;01mbreak\u001b[39;00m\n",
      "File \u001b[0;32m/opt/anaconda3/envs/llm_env/lib/python3.10/site-packages/nest_asyncio.py:133\u001b[0m, in \u001b[0;36m_patch_loop.<locals>._run_once\u001b[0;34m(self)\u001b[0m\n\u001b[1;32m    130\u001b[0m curr_task \u001b[38;5;241m=\u001b[39m curr_tasks\u001b[38;5;241m.\u001b[39mpop(\u001b[38;5;28mself\u001b[39m, \u001b[38;5;28;01mNone\u001b[39;00m)\n\u001b[1;32m    132\u001b[0m \u001b[38;5;28;01mtry\u001b[39;00m:\n\u001b[0;32m--> 133\u001b[0m     \u001b[43mhandle\u001b[49m\u001b[38;5;241;43m.\u001b[39;49m\u001b[43m_run\u001b[49m\u001b[43m(\u001b[49m\u001b[43m)\u001b[49m\n\u001b[1;32m    134\u001b[0m \u001b[38;5;28;01mfinally\u001b[39;00m:\n\u001b[1;32m    135\u001b[0m     \u001b[38;5;66;03m# restore the current task\u001b[39;00m\n\u001b[1;32m    136\u001b[0m     \u001b[38;5;28;01mif\u001b[39;00m curr_task \u001b[38;5;129;01mis\u001b[39;00m \u001b[38;5;129;01mnot\u001b[39;00m \u001b[38;5;28;01mNone\u001b[39;00m:\n",
      "File \u001b[0;32m/opt/anaconda3/envs/llm_env/lib/python3.10/asyncio/events.py:80\u001b[0m, in \u001b[0;36mHandle._run\u001b[0;34m(self)\u001b[0m\n\u001b[1;32m     78\u001b[0m \u001b[38;5;28;01mdef\u001b[39;00m\u001b[38;5;250m \u001b[39m\u001b[38;5;21m_run\u001b[39m(\u001b[38;5;28mself\u001b[39m):\n\u001b[1;32m     79\u001b[0m     \u001b[38;5;28;01mtry\u001b[39;00m:\n\u001b[0;32m---> 80\u001b[0m         \u001b[38;5;28;43mself\u001b[39;49m\u001b[38;5;241;43m.\u001b[39;49m\u001b[43m_context\u001b[49m\u001b[38;5;241;43m.\u001b[39;49m\u001b[43mrun\u001b[49m\u001b[43m(\u001b[49m\u001b[38;5;28;43mself\u001b[39;49m\u001b[38;5;241;43m.\u001b[39;49m\u001b[43m_callback\u001b[49m\u001b[43m,\u001b[49m\u001b[43m \u001b[49m\u001b[38;5;241;43m*\u001b[39;49m\u001b[38;5;28;43mself\u001b[39;49m\u001b[38;5;241;43m.\u001b[39;49m\u001b[43m_args\u001b[49m\u001b[43m)\u001b[49m\n\u001b[1;32m     81\u001b[0m     \u001b[38;5;28;01mexcept\u001b[39;00m (\u001b[38;5;167;01mSystemExit\u001b[39;00m, \u001b[38;5;167;01mKeyboardInterrupt\u001b[39;00m):\n\u001b[1;32m     82\u001b[0m         \u001b[38;5;28;01mraise\u001b[39;00m\n",
      "File \u001b[0;32m/opt/anaconda3/envs/llm_env/lib/python3.10/asyncio/tasks.py:315\u001b[0m, in \u001b[0;36mTask.__wakeup\u001b[0;34m(self, future)\u001b[0m\n\u001b[1;32m    307\u001b[0m     \u001b[38;5;28mself\u001b[39m\u001b[38;5;241m.\u001b[39m__step(exc)\n\u001b[1;32m    308\u001b[0m \u001b[38;5;28;01melse\u001b[39;00m:\n\u001b[1;32m    309\u001b[0m     \u001b[38;5;66;03m# Don't pass the value of `future.result()` explicitly,\u001b[39;00m\n\u001b[1;32m    310\u001b[0m     \u001b[38;5;66;03m# as `Future.__iter__` and `Future.__await__` don't need it.\u001b[39;00m\n\u001b[0;32m   (...)\u001b[0m\n\u001b[1;32m    313\u001b[0m     \u001b[38;5;66;03m# instead of `__next__()`, which is slower for futures\u001b[39;00m\n\u001b[1;32m    314\u001b[0m     \u001b[38;5;66;03m# that return non-generator iterators from their `__iter__`.\u001b[39;00m\n\u001b[0;32m--> 315\u001b[0m     \u001b[38;5;28;43mself\u001b[39;49m\u001b[38;5;241;43m.\u001b[39;49m\u001b[43m__step\u001b[49m\u001b[43m(\u001b[49m\u001b[43m)\u001b[49m\n\u001b[1;32m    316\u001b[0m \u001b[38;5;28mself\u001b[39m \u001b[38;5;241m=\u001b[39m \u001b[38;5;28;01mNone\u001b[39;00m\n",
      "File \u001b[0;32m/opt/anaconda3/envs/llm_env/lib/python3.10/asyncio/tasks.py:232\u001b[0m, in \u001b[0;36mTask.__step\u001b[0;34m(***failed resolving arguments***)\u001b[0m\n\u001b[1;32m    228\u001b[0m \u001b[38;5;28;01mtry\u001b[39;00m:\n\u001b[1;32m    229\u001b[0m     \u001b[38;5;28;01mif\u001b[39;00m exc \u001b[38;5;129;01mis\u001b[39;00m \u001b[38;5;28;01mNone\u001b[39;00m:\n\u001b[1;32m    230\u001b[0m         \u001b[38;5;66;03m# We use the `send` method directly, because coroutines\u001b[39;00m\n\u001b[1;32m    231\u001b[0m         \u001b[38;5;66;03m# don't have `__iter__` and `__next__` methods.\u001b[39;00m\n\u001b[0;32m--> 232\u001b[0m         result \u001b[38;5;241m=\u001b[39m \u001b[43mcoro\u001b[49m\u001b[38;5;241;43m.\u001b[39;49m\u001b[43msend\u001b[49m\u001b[43m(\u001b[49m\u001b[38;5;28;43;01mNone\u001b[39;49;00m\u001b[43m)\u001b[49m\n\u001b[1;32m    233\u001b[0m     \u001b[38;5;28;01melse\u001b[39;00m:\n\u001b[1;32m    234\u001b[0m         result \u001b[38;5;241m=\u001b[39m coro\u001b[38;5;241m.\u001b[39mthrow(exc)\n",
      "File \u001b[0;32m/opt/anaconda3/envs/llm_env/lib/python3.10/site-packages/ragas/metrics/_faithfulness.py:200\u001b[0m, in \u001b[0;36mFaithfulness._single_turn_ascore\u001b[0;34m(self, sample, callbacks)\u001b[0m\n\u001b[1;32m    196\u001b[0m \u001b[38;5;28;01masync\u001b[39;00m \u001b[38;5;28;01mdef\u001b[39;00m\u001b[38;5;250m \u001b[39m\u001b[38;5;21m_single_turn_ascore\u001b[39m(\n\u001b[1;32m    197\u001b[0m     \u001b[38;5;28mself\u001b[39m, sample: SingleTurnSample, callbacks: Callbacks\n\u001b[1;32m    198\u001b[0m ) \u001b[38;5;241m-\u001b[39m\u001b[38;5;241m>\u001b[39m \u001b[38;5;28mfloat\u001b[39m:\n\u001b[1;32m    199\u001b[0m     row \u001b[38;5;241m=\u001b[39m sample\u001b[38;5;241m.\u001b[39mto_dict()\n\u001b[0;32m--> 200\u001b[0m     \u001b[38;5;28;01mreturn\u001b[39;00m \u001b[38;5;28;01mawait\u001b[39;00m \u001b[38;5;28mself\u001b[39m\u001b[38;5;241m.\u001b[39m_ascore(row, callbacks)\n",
      "File \u001b[0;32m/opt/anaconda3/envs/llm_env/lib/python3.10/site-packages/ragas/metrics/_faithfulness.py:208\u001b[0m, in \u001b[0;36mFaithfulness._ascore\u001b[0;34m(self, row, callbacks)\u001b[0m\n\u001b[1;32m    203\u001b[0m \u001b[38;5;250m\u001b[39m\u001b[38;5;124;03m\"\"\"\u001b[39;00m\n\u001b[1;32m    204\u001b[0m \u001b[38;5;124;03mreturns the NLI score for each (q, c, a) pair\u001b[39;00m\n\u001b[1;32m    205\u001b[0m \u001b[38;5;124;03m\"\"\"\u001b[39;00m\n\u001b[1;32m    206\u001b[0m \u001b[38;5;28;01massert\u001b[39;00m \u001b[38;5;28mself\u001b[39m\u001b[38;5;241m.\u001b[39mllm \u001b[38;5;129;01mis\u001b[39;00m \u001b[38;5;129;01mnot\u001b[39;00m \u001b[38;5;28;01mNone\u001b[39;00m, \u001b[38;5;124m\"\u001b[39m\u001b[38;5;124mLLM is not set\u001b[39m\u001b[38;5;124m\"\u001b[39m\n\u001b[0;32m--> 208\u001b[0m statements \u001b[38;5;241m=\u001b[39m \u001b[38;5;28;01mawait\u001b[39;00m \u001b[38;5;28mself\u001b[39m\u001b[38;5;241m.\u001b[39m_create_statements(row, callbacks)\n\u001b[1;32m    209\u001b[0m statements \u001b[38;5;241m=\u001b[39m statements\u001b[38;5;241m.\u001b[39mstatements\n\u001b[1;32m    210\u001b[0m \u001b[38;5;28;01mif\u001b[39;00m statements \u001b[38;5;241m==\u001b[39m []:\n",
      "File \u001b[0;32m/opt/anaconda3/envs/llm_env/lib/python3.10/site-packages/ragas/metrics/_faithfulness.py:174\u001b[0m, in \u001b[0;36mFaithfulness._create_statements\u001b[0;34m(self, row, callbacks)\u001b[0m\n\u001b[1;32m    171\u001b[0m text, question \u001b[38;5;241m=\u001b[39m row[\u001b[38;5;124m\"\u001b[39m\u001b[38;5;124mresponse\u001b[39m\u001b[38;5;124m\"\u001b[39m], row[\u001b[38;5;124m\"\u001b[39m\u001b[38;5;124muser_input\u001b[39m\u001b[38;5;124m\"\u001b[39m]\n\u001b[1;32m    173\u001b[0m prompt_input \u001b[38;5;241m=\u001b[39m StatementGeneratorInput(question\u001b[38;5;241m=\u001b[39mquestion, answer\u001b[38;5;241m=\u001b[39mtext)\n\u001b[0;32m--> 174\u001b[0m statements \u001b[38;5;241m=\u001b[39m \u001b[38;5;28;01mawait\u001b[39;00m \u001b[38;5;28mself\u001b[39m\u001b[38;5;241m.\u001b[39mstatement_generator_prompt\u001b[38;5;241m.\u001b[39mgenerate(\n\u001b[1;32m    175\u001b[0m     llm\u001b[38;5;241m=\u001b[39m\u001b[38;5;28mself\u001b[39m\u001b[38;5;241m.\u001b[39mllm,\n\u001b[1;32m    176\u001b[0m     data\u001b[38;5;241m=\u001b[39mprompt_input,\n\u001b[1;32m    177\u001b[0m     callbacks\u001b[38;5;241m=\u001b[39mcallbacks,\n\u001b[1;32m    178\u001b[0m )\n\u001b[1;32m    180\u001b[0m \u001b[38;5;28;01mreturn\u001b[39;00m statements\n",
      "File \u001b[0;32m/opt/anaconda3/envs/llm_env/lib/python3.10/site-packages/ragas/prompt/pydantic_prompt.py:145\u001b[0m, in \u001b[0;36mPydanticPrompt.generate\u001b[0;34m(self, llm, data, temperature, stop, callbacks, retries_left)\u001b[0m\n\u001b[1;32m    142\u001b[0m callbacks \u001b[38;5;241m=\u001b[39m callbacks \u001b[38;5;129;01mor\u001b[39;00m []\n\u001b[1;32m    144\u001b[0m \u001b[38;5;66;03m# this is just a special case of generate_multiple\u001b[39;00m\n\u001b[0;32m--> 145\u001b[0m output_single \u001b[38;5;241m=\u001b[39m \u001b[38;5;28;01mawait\u001b[39;00m \u001b[38;5;28mself\u001b[39m\u001b[38;5;241m.\u001b[39mgenerate_multiple(\n\u001b[1;32m    146\u001b[0m     llm\u001b[38;5;241m=\u001b[39mllm,\n\u001b[1;32m    147\u001b[0m     data\u001b[38;5;241m=\u001b[39mdata,\n\u001b[1;32m    148\u001b[0m     n\u001b[38;5;241m=\u001b[39m\u001b[38;5;241m1\u001b[39m,\n\u001b[1;32m    149\u001b[0m     temperature\u001b[38;5;241m=\u001b[39mtemperature,\n\u001b[1;32m    150\u001b[0m     stop\u001b[38;5;241m=\u001b[39mstop,\n\u001b[1;32m    151\u001b[0m     callbacks\u001b[38;5;241m=\u001b[39mcallbacks,\n\u001b[1;32m    152\u001b[0m     retries_left\u001b[38;5;241m=\u001b[39mretries_left,\n\u001b[1;32m    153\u001b[0m )\n\u001b[1;32m    154\u001b[0m \u001b[38;5;28;01mreturn\u001b[39;00m output_single[\u001b[38;5;241m0\u001b[39m]\n",
      "File \u001b[0;32m/opt/anaconda3/envs/llm_env/lib/python3.10/site-packages/ragas/prompt/pydantic_prompt.py:264\u001b[0m, in \u001b[0;36mPydanticPrompt.generate_multiple\u001b[0;34m(self, llm, data, n, temperature, stop, callbacks, retries_left)\u001b[0m\n\u001b[1;32m    261\u001b[0m prompt_rm\u001b[38;5;241m.\u001b[39mon_chain_end({\u001b[38;5;124m\"\u001b[39m\u001b[38;5;124moutput\u001b[39m\u001b[38;5;124m\"\u001b[39m: output_models})\n\u001b[1;32m    263\u001b[0m \u001b[38;5;66;03m# Track prompt usage\u001b[39;00m\n\u001b[0;32m--> 264\u001b[0m \u001b[43mtrack\u001b[49m\u001b[43m(\u001b[49m\n\u001b[1;32m    265\u001b[0m \u001b[43m    \u001b[49m\u001b[43mPromptUsageEvent\u001b[49m\u001b[43m(\u001b[49m\n\u001b[1;32m    266\u001b[0m \u001b[43m        \u001b[49m\u001b[43mprompt_type\u001b[49m\u001b[38;5;241;43m=\u001b[39;49m\u001b[38;5;124;43m\"\u001b[39;49m\u001b[38;5;124;43mpydantic\u001b[39;49m\u001b[38;5;124;43m\"\u001b[39;49m\u001b[43m,\u001b[49m\n\u001b[1;32m    267\u001b[0m \u001b[43m        \u001b[49m\u001b[43mhas_examples\u001b[49m\u001b[38;5;241;43m=\u001b[39;49m\u001b[38;5;28;43mlen\u001b[39;49m\u001b[43m(\u001b[49m\u001b[38;5;28;43mself\u001b[39;49m\u001b[38;5;241;43m.\u001b[39;49m\u001b[43mexamples\u001b[49m\u001b[43m)\u001b[49m\u001b[43m \u001b[49m\u001b[38;5;241;43m>\u001b[39;49m\u001b[43m \u001b[49m\u001b[38;5;241;43m0\u001b[39;49m\u001b[43m,\u001b[49m\n\u001b[1;32m    268\u001b[0m \u001b[43m        \u001b[49m\u001b[43mnum_examples\u001b[49m\u001b[38;5;241;43m=\u001b[39;49m\u001b[38;5;28;43mlen\u001b[39;49m\u001b[43m(\u001b[49m\u001b[38;5;28;43mself\u001b[39;49m\u001b[38;5;241;43m.\u001b[39;49m\u001b[43mexamples\u001b[49m\u001b[43m)\u001b[49m\u001b[43m,\u001b[49m\n\u001b[1;32m    269\u001b[0m \u001b[43m        \u001b[49m\u001b[43mhas_response_model\u001b[49m\u001b[38;5;241;43m=\u001b[39;49m\u001b[38;5;28;43;01mTrue\u001b[39;49;00m\u001b[43m,\u001b[49m\u001b[43m  \u001b[49m\u001b[38;5;66;43;03m# PydanticPrompt always has response model\u001b[39;49;00m\n\u001b[1;32m    270\u001b[0m \u001b[43m        \u001b[49m\u001b[43mlanguage\u001b[49m\u001b[38;5;241;43m=\u001b[39;49m\u001b[38;5;28;43mself\u001b[39;49m\u001b[38;5;241;43m.\u001b[39;49m\u001b[43mlanguage\u001b[49m\u001b[43m,\u001b[49m\n\u001b[1;32m    271\u001b[0m \u001b[43m    \u001b[49m\u001b[43m)\u001b[49m\n\u001b[1;32m    272\u001b[0m \u001b[43m\u001b[49m\u001b[43m)\u001b[49m\n\u001b[1;32m    274\u001b[0m \u001b[38;5;28;01mreturn\u001b[39;00m output_models\n",
      "File \u001b[0;32m/opt/anaconda3/envs/llm_env/lib/python3.10/site-packages/ragas/_analytics.py:62\u001b[0m, in \u001b[0;36msilent.<locals>.wrapper\u001b[0;34m(*args, **kwargs)\u001b[0m\n\u001b[1;32m     59\u001b[0m \u001b[38;5;129m@wraps\u001b[39m(func)\n\u001b[1;32m     60\u001b[0m \u001b[38;5;28;01mdef\u001b[39;00m\u001b[38;5;250m \u001b[39m\u001b[38;5;21mwrapper\u001b[39m(\u001b[38;5;241m*\u001b[39margs: P\u001b[38;5;241m.\u001b[39margs, \u001b[38;5;241m*\u001b[39m\u001b[38;5;241m*\u001b[39mkwargs: P\u001b[38;5;241m.\u001b[39mkwargs) \u001b[38;5;241m-\u001b[39m\u001b[38;5;241m>\u001b[39m T:\n\u001b[1;32m     61\u001b[0m     \u001b[38;5;28;01mtry\u001b[39;00m:\n\u001b[0;32m---> 62\u001b[0m         \u001b[38;5;28;01mreturn\u001b[39;00m \u001b[43mfunc\u001b[49m\u001b[43m(\u001b[49m\u001b[38;5;241;43m*\u001b[39;49m\u001b[43margs\u001b[49m\u001b[43m,\u001b[49m\u001b[43m \u001b[49m\u001b[38;5;241;43m*\u001b[39;49m\u001b[38;5;241;43m*\u001b[39;49m\u001b[43mkwargs\u001b[49m\u001b[43m)\u001b[49m\n\u001b[1;32m     63\u001b[0m     \u001b[38;5;28;01mexcept\u001b[39;00m \u001b[38;5;167;01mException\u001b[39;00m \u001b[38;5;28;01mas\u001b[39;00m err:  \u001b[38;5;66;03m# pylint: disable=broad-except\u001b[39;00m\n\u001b[1;32m     64\u001b[0m         \u001b[38;5;28;01mif\u001b[39;00m _usage_event_debugging():\n",
      "File \u001b[0;32m/opt/anaconda3/envs/llm_env/lib/python3.10/site-packages/ragas/_analytics.py:232\u001b[0m, in \u001b[0;36mtrack\u001b[0;34m(event_properties)\u001b[0m\n\u001b[1;32m    229\u001b[0m     logger\u001b[38;5;241m.\u001b[39minfo(\u001b[38;5;124m\"\u001b[39m\u001b[38;5;124mTracking Payload: \u001b[39m\u001b[38;5;132;01m%s\u001b[39;00m\u001b[38;5;124m\"\u001b[39m, payload)\n\u001b[1;32m    230\u001b[0m     \u001b[38;5;28;01mreturn\u001b[39;00m\n\u001b[0;32m--> 232\u001b[0m \u001b[43mrequests\u001b[49m\u001b[38;5;241;43m.\u001b[39;49m\u001b[43mpost\u001b[49m\u001b[43m(\u001b[49m\u001b[43mUSAGE_TRACKING_URL\u001b[49m\u001b[43m,\u001b[49m\u001b[43m \u001b[49m\u001b[43mjson\u001b[49m\u001b[38;5;241;43m=\u001b[39;49m\u001b[43mpayload\u001b[49m\u001b[43m,\u001b[49m\u001b[43m \u001b[49m\u001b[43mtimeout\u001b[49m\u001b[38;5;241;43m=\u001b[39;49m\u001b[43mUSAGE_REQUESTS_TIMEOUT_SEC\u001b[49m\u001b[43m)\u001b[49m\n",
      "File \u001b[0;32m/opt/anaconda3/envs/llm_env/lib/python3.10/site-packages/requests/api.py:115\u001b[0m, in \u001b[0;36mpost\u001b[0;34m(url, data, json, **kwargs)\u001b[0m\n\u001b[1;32m    103\u001b[0m \u001b[38;5;28;01mdef\u001b[39;00m\u001b[38;5;250m \u001b[39m\u001b[38;5;21mpost\u001b[39m(url, data\u001b[38;5;241m=\u001b[39m\u001b[38;5;28;01mNone\u001b[39;00m, json\u001b[38;5;241m=\u001b[39m\u001b[38;5;28;01mNone\u001b[39;00m, \u001b[38;5;241m*\u001b[39m\u001b[38;5;241m*\u001b[39mkwargs):\n\u001b[1;32m    104\u001b[0m \u001b[38;5;250m    \u001b[39m\u001b[38;5;124mr\u001b[39m\u001b[38;5;124;03m\"\"\"Sends a POST request.\u001b[39;00m\n\u001b[1;32m    105\u001b[0m \n\u001b[1;32m    106\u001b[0m \u001b[38;5;124;03m    :param url: URL for the new :class:`Request` object.\u001b[39;00m\n\u001b[0;32m   (...)\u001b[0m\n\u001b[1;32m    112\u001b[0m \u001b[38;5;124;03m    :rtype: requests.Response\u001b[39;00m\n\u001b[1;32m    113\u001b[0m \u001b[38;5;124;03m    \"\"\"\u001b[39;00m\n\u001b[0;32m--> 115\u001b[0m     \u001b[38;5;28;01mreturn\u001b[39;00m \u001b[43mrequest\u001b[49m\u001b[43m(\u001b[49m\u001b[38;5;124;43m\"\u001b[39;49m\u001b[38;5;124;43mpost\u001b[39;49m\u001b[38;5;124;43m\"\u001b[39;49m\u001b[43m,\u001b[49m\u001b[43m \u001b[49m\u001b[43murl\u001b[49m\u001b[43m,\u001b[49m\u001b[43m \u001b[49m\u001b[43mdata\u001b[49m\u001b[38;5;241;43m=\u001b[39;49m\u001b[43mdata\u001b[49m\u001b[43m,\u001b[49m\u001b[43m \u001b[49m\u001b[43mjson\u001b[49m\u001b[38;5;241;43m=\u001b[39;49m\u001b[43mjson\u001b[49m\u001b[43m,\u001b[49m\u001b[43m \u001b[49m\u001b[38;5;241;43m*\u001b[39;49m\u001b[38;5;241;43m*\u001b[39;49m\u001b[43mkwargs\u001b[49m\u001b[43m)\u001b[49m\n",
      "File \u001b[0;32m/opt/anaconda3/envs/llm_env/lib/python3.10/site-packages/requests/api.py:59\u001b[0m, in \u001b[0;36mrequest\u001b[0;34m(method, url, **kwargs)\u001b[0m\n\u001b[1;32m     55\u001b[0m \u001b[38;5;66;03m# By using the 'with' statement we are sure the session is closed, thus we\u001b[39;00m\n\u001b[1;32m     56\u001b[0m \u001b[38;5;66;03m# avoid leaving sockets open which can trigger a ResourceWarning in some\u001b[39;00m\n\u001b[1;32m     57\u001b[0m \u001b[38;5;66;03m# cases, and look like a memory leak in others.\u001b[39;00m\n\u001b[1;32m     58\u001b[0m \u001b[38;5;28;01mwith\u001b[39;00m sessions\u001b[38;5;241m.\u001b[39mSession() \u001b[38;5;28;01mas\u001b[39;00m session:\n\u001b[0;32m---> 59\u001b[0m     \u001b[38;5;28;01mreturn\u001b[39;00m \u001b[43msession\u001b[49m\u001b[38;5;241;43m.\u001b[39;49m\u001b[43mrequest\u001b[49m\u001b[43m(\u001b[49m\u001b[43mmethod\u001b[49m\u001b[38;5;241;43m=\u001b[39;49m\u001b[43mmethod\u001b[49m\u001b[43m,\u001b[49m\u001b[43m \u001b[49m\u001b[43murl\u001b[49m\u001b[38;5;241;43m=\u001b[39;49m\u001b[43murl\u001b[49m\u001b[43m,\u001b[49m\u001b[43m \u001b[49m\u001b[38;5;241;43m*\u001b[39;49m\u001b[38;5;241;43m*\u001b[39;49m\u001b[43mkwargs\u001b[49m\u001b[43m)\u001b[49m\n",
      "File \u001b[0;32m/opt/anaconda3/envs/llm_env/lib/python3.10/site-packages/requests/sessions.py:589\u001b[0m, in \u001b[0;36mSession.request\u001b[0;34m(self, method, url, params, data, headers, cookies, files, auth, timeout, allow_redirects, proxies, hooks, stream, verify, cert, json)\u001b[0m\n\u001b[1;32m    584\u001b[0m send_kwargs \u001b[38;5;241m=\u001b[39m {\n\u001b[1;32m    585\u001b[0m     \u001b[38;5;124m\"\u001b[39m\u001b[38;5;124mtimeout\u001b[39m\u001b[38;5;124m\"\u001b[39m: timeout,\n\u001b[1;32m    586\u001b[0m     \u001b[38;5;124m\"\u001b[39m\u001b[38;5;124mallow_redirects\u001b[39m\u001b[38;5;124m\"\u001b[39m: allow_redirects,\n\u001b[1;32m    587\u001b[0m }\n\u001b[1;32m    588\u001b[0m send_kwargs\u001b[38;5;241m.\u001b[39mupdate(settings)\n\u001b[0;32m--> 589\u001b[0m resp \u001b[38;5;241m=\u001b[39m \u001b[38;5;28;43mself\u001b[39;49m\u001b[38;5;241;43m.\u001b[39;49m\u001b[43msend\u001b[49m\u001b[43m(\u001b[49m\u001b[43mprep\u001b[49m\u001b[43m,\u001b[49m\u001b[43m \u001b[49m\u001b[38;5;241;43m*\u001b[39;49m\u001b[38;5;241;43m*\u001b[39;49m\u001b[43msend_kwargs\u001b[49m\u001b[43m)\u001b[49m\n\u001b[1;32m    591\u001b[0m \u001b[38;5;28;01mreturn\u001b[39;00m resp\n",
      "File \u001b[0;32m/opt/anaconda3/envs/llm_env/lib/python3.10/site-packages/requests/sessions.py:703\u001b[0m, in \u001b[0;36mSession.send\u001b[0;34m(self, request, **kwargs)\u001b[0m\n\u001b[1;32m    700\u001b[0m start \u001b[38;5;241m=\u001b[39m preferred_clock()\n\u001b[1;32m    702\u001b[0m \u001b[38;5;66;03m# Send the request\u001b[39;00m\n\u001b[0;32m--> 703\u001b[0m r \u001b[38;5;241m=\u001b[39m \u001b[43madapter\u001b[49m\u001b[38;5;241;43m.\u001b[39;49m\u001b[43msend\u001b[49m\u001b[43m(\u001b[49m\u001b[43mrequest\u001b[49m\u001b[43m,\u001b[49m\u001b[43m \u001b[49m\u001b[38;5;241;43m*\u001b[39;49m\u001b[38;5;241;43m*\u001b[39;49m\u001b[43mkwargs\u001b[49m\u001b[43m)\u001b[49m\n\u001b[1;32m    705\u001b[0m \u001b[38;5;66;03m# Total elapsed time of the request (approximately)\u001b[39;00m\n\u001b[1;32m    706\u001b[0m elapsed \u001b[38;5;241m=\u001b[39m preferred_clock() \u001b[38;5;241m-\u001b[39m start\n",
      "File \u001b[0;32m/opt/anaconda3/envs/llm_env/lib/python3.10/site-packages/requests/adapters.py:644\u001b[0m, in \u001b[0;36mHTTPAdapter.send\u001b[0;34m(self, request, stream, timeout, verify, cert, proxies)\u001b[0m\n\u001b[1;32m    641\u001b[0m     timeout \u001b[38;5;241m=\u001b[39m TimeoutSauce(connect\u001b[38;5;241m=\u001b[39mtimeout, read\u001b[38;5;241m=\u001b[39mtimeout)\n\u001b[1;32m    643\u001b[0m \u001b[38;5;28;01mtry\u001b[39;00m:\n\u001b[0;32m--> 644\u001b[0m     resp \u001b[38;5;241m=\u001b[39m \u001b[43mconn\u001b[49m\u001b[38;5;241;43m.\u001b[39;49m\u001b[43murlopen\u001b[49m\u001b[43m(\u001b[49m\n\u001b[1;32m    645\u001b[0m \u001b[43m        \u001b[49m\u001b[43mmethod\u001b[49m\u001b[38;5;241;43m=\u001b[39;49m\u001b[43mrequest\u001b[49m\u001b[38;5;241;43m.\u001b[39;49m\u001b[43mmethod\u001b[49m\u001b[43m,\u001b[49m\n\u001b[1;32m    646\u001b[0m \u001b[43m        \u001b[49m\u001b[43murl\u001b[49m\u001b[38;5;241;43m=\u001b[39;49m\u001b[43murl\u001b[49m\u001b[43m,\u001b[49m\n\u001b[1;32m    647\u001b[0m \u001b[43m        \u001b[49m\u001b[43mbody\u001b[49m\u001b[38;5;241;43m=\u001b[39;49m\u001b[43mrequest\u001b[49m\u001b[38;5;241;43m.\u001b[39;49m\u001b[43mbody\u001b[49m\u001b[43m,\u001b[49m\n\u001b[1;32m    648\u001b[0m \u001b[43m        \u001b[49m\u001b[43mheaders\u001b[49m\u001b[38;5;241;43m=\u001b[39;49m\u001b[43mrequest\u001b[49m\u001b[38;5;241;43m.\u001b[39;49m\u001b[43mheaders\u001b[49m\u001b[43m,\u001b[49m\n\u001b[1;32m    649\u001b[0m \u001b[43m        \u001b[49m\u001b[43mredirect\u001b[49m\u001b[38;5;241;43m=\u001b[39;49m\u001b[38;5;28;43;01mFalse\u001b[39;49;00m\u001b[43m,\u001b[49m\n\u001b[1;32m    650\u001b[0m \u001b[43m        \u001b[49m\u001b[43massert_same_host\u001b[49m\u001b[38;5;241;43m=\u001b[39;49m\u001b[38;5;28;43;01mFalse\u001b[39;49;00m\u001b[43m,\u001b[49m\n\u001b[1;32m    651\u001b[0m \u001b[43m        \u001b[49m\u001b[43mpreload_content\u001b[49m\u001b[38;5;241;43m=\u001b[39;49m\u001b[38;5;28;43;01mFalse\u001b[39;49;00m\u001b[43m,\u001b[49m\n\u001b[1;32m    652\u001b[0m \u001b[43m        \u001b[49m\u001b[43mdecode_content\u001b[49m\u001b[38;5;241;43m=\u001b[39;49m\u001b[38;5;28;43;01mFalse\u001b[39;49;00m\u001b[43m,\u001b[49m\n\u001b[1;32m    653\u001b[0m \u001b[43m        \u001b[49m\u001b[43mretries\u001b[49m\u001b[38;5;241;43m=\u001b[39;49m\u001b[38;5;28;43mself\u001b[39;49m\u001b[38;5;241;43m.\u001b[39;49m\u001b[43mmax_retries\u001b[49m\u001b[43m,\u001b[49m\n\u001b[1;32m    654\u001b[0m \u001b[43m        \u001b[49m\u001b[43mtimeout\u001b[49m\u001b[38;5;241;43m=\u001b[39;49m\u001b[43mtimeout\u001b[49m\u001b[43m,\u001b[49m\n\u001b[1;32m    655\u001b[0m \u001b[43m        \u001b[49m\u001b[43mchunked\u001b[49m\u001b[38;5;241;43m=\u001b[39;49m\u001b[43mchunked\u001b[49m\u001b[43m,\u001b[49m\n\u001b[1;32m    656\u001b[0m \u001b[43m    \u001b[49m\u001b[43m)\u001b[49m\n\u001b[1;32m    658\u001b[0m \u001b[38;5;28;01mexcept\u001b[39;00m (ProtocolError, \u001b[38;5;167;01mOSError\u001b[39;00m) \u001b[38;5;28;01mas\u001b[39;00m err:\n\u001b[1;32m    659\u001b[0m     \u001b[38;5;28;01mraise\u001b[39;00m \u001b[38;5;167;01mConnectionError\u001b[39;00m(err, request\u001b[38;5;241m=\u001b[39mrequest)\n",
      "File \u001b[0;32m/opt/anaconda3/envs/llm_env/lib/python3.10/site-packages/urllib3/connectionpool.py:787\u001b[0m, in \u001b[0;36mHTTPConnectionPool.urlopen\u001b[0;34m(self, method, url, body, headers, retries, redirect, assert_same_host, timeout, pool_timeout, release_conn, chunked, body_pos, preload_content, decode_content, **response_kw)\u001b[0m\n\u001b[1;32m    784\u001b[0m response_conn \u001b[38;5;241m=\u001b[39m conn \u001b[38;5;28;01mif\u001b[39;00m \u001b[38;5;129;01mnot\u001b[39;00m release_conn \u001b[38;5;28;01melse\u001b[39;00m \u001b[38;5;28;01mNone\u001b[39;00m\n\u001b[1;32m    786\u001b[0m \u001b[38;5;66;03m# Make the request on the HTTPConnection object\u001b[39;00m\n\u001b[0;32m--> 787\u001b[0m response \u001b[38;5;241m=\u001b[39m \u001b[38;5;28;43mself\u001b[39;49m\u001b[38;5;241;43m.\u001b[39;49m\u001b[43m_make_request\u001b[49m\u001b[43m(\u001b[49m\n\u001b[1;32m    788\u001b[0m \u001b[43m    \u001b[49m\u001b[43mconn\u001b[49m\u001b[43m,\u001b[49m\n\u001b[1;32m    789\u001b[0m \u001b[43m    \u001b[49m\u001b[43mmethod\u001b[49m\u001b[43m,\u001b[49m\n\u001b[1;32m    790\u001b[0m \u001b[43m    \u001b[49m\u001b[43murl\u001b[49m\u001b[43m,\u001b[49m\n\u001b[1;32m    791\u001b[0m \u001b[43m    \u001b[49m\u001b[43mtimeout\u001b[49m\u001b[38;5;241;43m=\u001b[39;49m\u001b[43mtimeout_obj\u001b[49m\u001b[43m,\u001b[49m\n\u001b[1;32m    792\u001b[0m \u001b[43m    \u001b[49m\u001b[43mbody\u001b[49m\u001b[38;5;241;43m=\u001b[39;49m\u001b[43mbody\u001b[49m\u001b[43m,\u001b[49m\n\u001b[1;32m    793\u001b[0m \u001b[43m    \u001b[49m\u001b[43mheaders\u001b[49m\u001b[38;5;241;43m=\u001b[39;49m\u001b[43mheaders\u001b[49m\u001b[43m,\u001b[49m\n\u001b[1;32m    794\u001b[0m \u001b[43m    \u001b[49m\u001b[43mchunked\u001b[49m\u001b[38;5;241;43m=\u001b[39;49m\u001b[43mchunked\u001b[49m\u001b[43m,\u001b[49m\n\u001b[1;32m    795\u001b[0m \u001b[43m    \u001b[49m\u001b[43mretries\u001b[49m\u001b[38;5;241;43m=\u001b[39;49m\u001b[43mretries\u001b[49m\u001b[43m,\u001b[49m\n\u001b[1;32m    796\u001b[0m \u001b[43m    \u001b[49m\u001b[43mresponse_conn\u001b[49m\u001b[38;5;241;43m=\u001b[39;49m\u001b[43mresponse_conn\u001b[49m\u001b[43m,\u001b[49m\n\u001b[1;32m    797\u001b[0m \u001b[43m    \u001b[49m\u001b[43mpreload_content\u001b[49m\u001b[38;5;241;43m=\u001b[39;49m\u001b[43mpreload_content\u001b[49m\u001b[43m,\u001b[49m\n\u001b[1;32m    798\u001b[0m \u001b[43m    \u001b[49m\u001b[43mdecode_content\u001b[49m\u001b[38;5;241;43m=\u001b[39;49m\u001b[43mdecode_content\u001b[49m\u001b[43m,\u001b[49m\n\u001b[1;32m    799\u001b[0m \u001b[43m    \u001b[49m\u001b[38;5;241;43m*\u001b[39;49m\u001b[38;5;241;43m*\u001b[39;49m\u001b[43mresponse_kw\u001b[49m\u001b[43m,\u001b[49m\n\u001b[1;32m    800\u001b[0m \u001b[43m\u001b[49m\u001b[43m)\u001b[49m\n\u001b[1;32m    802\u001b[0m \u001b[38;5;66;03m# Everything went great!\u001b[39;00m\n\u001b[1;32m    803\u001b[0m clean_exit \u001b[38;5;241m=\u001b[39m \u001b[38;5;28;01mTrue\u001b[39;00m\n",
      "File \u001b[0;32m/opt/anaconda3/envs/llm_env/lib/python3.10/site-packages/urllib3/connectionpool.py:464\u001b[0m, in \u001b[0;36mHTTPConnectionPool._make_request\u001b[0;34m(self, conn, method, url, body, headers, retries, timeout, chunked, response_conn, preload_content, decode_content, enforce_content_length)\u001b[0m\n\u001b[1;32m    461\u001b[0m \u001b[38;5;28;01mtry\u001b[39;00m:\n\u001b[1;32m    462\u001b[0m     \u001b[38;5;66;03m# Trigger any extra validation we need to do.\u001b[39;00m\n\u001b[1;32m    463\u001b[0m     \u001b[38;5;28;01mtry\u001b[39;00m:\n\u001b[0;32m--> 464\u001b[0m         \u001b[38;5;28;43mself\u001b[39;49m\u001b[38;5;241;43m.\u001b[39;49m\u001b[43m_validate_conn\u001b[49m\u001b[43m(\u001b[49m\u001b[43mconn\u001b[49m\u001b[43m)\u001b[49m\n\u001b[1;32m    465\u001b[0m     \u001b[38;5;28;01mexcept\u001b[39;00m (SocketTimeout, BaseSSLError) \u001b[38;5;28;01mas\u001b[39;00m e:\n\u001b[1;32m    466\u001b[0m         \u001b[38;5;28mself\u001b[39m\u001b[38;5;241m.\u001b[39m_raise_timeout(err\u001b[38;5;241m=\u001b[39me, url\u001b[38;5;241m=\u001b[39murl, timeout_value\u001b[38;5;241m=\u001b[39mconn\u001b[38;5;241m.\u001b[39mtimeout)\n",
      "File \u001b[0;32m/opt/anaconda3/envs/llm_env/lib/python3.10/site-packages/urllib3/connectionpool.py:1093\u001b[0m, in \u001b[0;36mHTTPSConnectionPool._validate_conn\u001b[0;34m(self, conn)\u001b[0m\n\u001b[1;32m   1091\u001b[0m \u001b[38;5;66;03m# Force connect early to allow us to validate the connection.\u001b[39;00m\n\u001b[1;32m   1092\u001b[0m \u001b[38;5;28;01mif\u001b[39;00m conn\u001b[38;5;241m.\u001b[39mis_closed:\n\u001b[0;32m-> 1093\u001b[0m     \u001b[43mconn\u001b[49m\u001b[38;5;241;43m.\u001b[39;49m\u001b[43mconnect\u001b[49m\u001b[43m(\u001b[49m\u001b[43m)\u001b[49m\n\u001b[1;32m   1095\u001b[0m \u001b[38;5;66;03m# TODO revise this, see https://github.com/urllib3/urllib3/issues/2791\u001b[39;00m\n\u001b[1;32m   1096\u001b[0m \u001b[38;5;28;01mif\u001b[39;00m \u001b[38;5;129;01mnot\u001b[39;00m conn\u001b[38;5;241m.\u001b[39mis_verified \u001b[38;5;129;01mand\u001b[39;00m \u001b[38;5;129;01mnot\u001b[39;00m conn\u001b[38;5;241m.\u001b[39mproxy_is_verified:\n",
      "File \u001b[0;32m/opt/anaconda3/envs/llm_env/lib/python3.10/site-packages/urllib3/connection.py:753\u001b[0m, in \u001b[0;36mHTTPSConnection.connect\u001b[0;34m(self)\u001b[0m\n\u001b[1;32m    751\u001b[0m \u001b[38;5;28;01mtry\u001b[39;00m:\n\u001b[1;32m    752\u001b[0m     sock: socket\u001b[38;5;241m.\u001b[39msocket \u001b[38;5;241m|\u001b[39m ssl\u001b[38;5;241m.\u001b[39mSSLSocket\n\u001b[0;32m--> 753\u001b[0m     \u001b[38;5;28mself\u001b[39m\u001b[38;5;241m.\u001b[39msock \u001b[38;5;241m=\u001b[39m sock \u001b[38;5;241m=\u001b[39m \u001b[38;5;28;43mself\u001b[39;49m\u001b[38;5;241;43m.\u001b[39;49m\u001b[43m_new_conn\u001b[49m\u001b[43m(\u001b[49m\u001b[43m)\u001b[49m\n\u001b[1;32m    754\u001b[0m     server_hostname: \u001b[38;5;28mstr\u001b[39m \u001b[38;5;241m=\u001b[39m \u001b[38;5;28mself\u001b[39m\u001b[38;5;241m.\u001b[39mhost\n\u001b[1;32m    755\u001b[0m     tls_in_tls \u001b[38;5;241m=\u001b[39m \u001b[38;5;28;01mFalse\u001b[39;00m\n",
      "File \u001b[0;32m/opt/anaconda3/envs/llm_env/lib/python3.10/site-packages/urllib3/connection.py:198\u001b[0m, in \u001b[0;36mHTTPConnection._new_conn\u001b[0;34m(self)\u001b[0m\n\u001b[1;32m    193\u001b[0m \u001b[38;5;250m\u001b[39m\u001b[38;5;124;03m\"\"\"Establish a socket connection and set nodelay settings on it.\u001b[39;00m\n\u001b[1;32m    194\u001b[0m \n\u001b[1;32m    195\u001b[0m \u001b[38;5;124;03m:return: New socket connection.\u001b[39;00m\n\u001b[1;32m    196\u001b[0m \u001b[38;5;124;03m\"\"\"\u001b[39;00m\n\u001b[1;32m    197\u001b[0m \u001b[38;5;28;01mtry\u001b[39;00m:\n\u001b[0;32m--> 198\u001b[0m     sock \u001b[38;5;241m=\u001b[39m \u001b[43mconnection\u001b[49m\u001b[38;5;241;43m.\u001b[39;49m\u001b[43mcreate_connection\u001b[49m\u001b[43m(\u001b[49m\n\u001b[1;32m    199\u001b[0m \u001b[43m        \u001b[49m\u001b[43m(\u001b[49m\u001b[38;5;28;43mself\u001b[39;49m\u001b[38;5;241;43m.\u001b[39;49m\u001b[43m_dns_host\u001b[49m\u001b[43m,\u001b[49m\u001b[43m \u001b[49m\u001b[38;5;28;43mself\u001b[39;49m\u001b[38;5;241;43m.\u001b[39;49m\u001b[43mport\u001b[49m\u001b[43m)\u001b[49m\u001b[43m,\u001b[49m\n\u001b[1;32m    200\u001b[0m \u001b[43m        \u001b[49m\u001b[38;5;28;43mself\u001b[39;49m\u001b[38;5;241;43m.\u001b[39;49m\u001b[43mtimeout\u001b[49m\u001b[43m,\u001b[49m\n\u001b[1;32m    201\u001b[0m \u001b[43m        \u001b[49m\u001b[43msource_address\u001b[49m\u001b[38;5;241;43m=\u001b[39;49m\u001b[38;5;28;43mself\u001b[39;49m\u001b[38;5;241;43m.\u001b[39;49m\u001b[43msource_address\u001b[49m\u001b[43m,\u001b[49m\n\u001b[1;32m    202\u001b[0m \u001b[43m        \u001b[49m\u001b[43msocket_options\u001b[49m\u001b[38;5;241;43m=\u001b[39;49m\u001b[38;5;28;43mself\u001b[39;49m\u001b[38;5;241;43m.\u001b[39;49m\u001b[43msocket_options\u001b[49m\u001b[43m,\u001b[49m\n\u001b[1;32m    203\u001b[0m \u001b[43m    \u001b[49m\u001b[43m)\u001b[49m\n\u001b[1;32m    204\u001b[0m \u001b[38;5;28;01mexcept\u001b[39;00m socket\u001b[38;5;241m.\u001b[39mgaierror \u001b[38;5;28;01mas\u001b[39;00m e:\n\u001b[1;32m    205\u001b[0m     \u001b[38;5;28;01mraise\u001b[39;00m NameResolutionError(\u001b[38;5;28mself\u001b[39m\u001b[38;5;241m.\u001b[39mhost, \u001b[38;5;28mself\u001b[39m, e) \u001b[38;5;28;01mfrom\u001b[39;00m\u001b[38;5;250m \u001b[39m\u001b[38;5;21;01me\u001b[39;00m\n",
      "File \u001b[0;32m/opt/anaconda3/envs/llm_env/lib/python3.10/site-packages/urllib3/util/connection.py:73\u001b[0m, in \u001b[0;36mcreate_connection\u001b[0;34m(address, timeout, source_address, socket_options)\u001b[0m\n\u001b[1;32m     71\u001b[0m \u001b[38;5;28;01mif\u001b[39;00m source_address:\n\u001b[1;32m     72\u001b[0m     sock\u001b[38;5;241m.\u001b[39mbind(source_address)\n\u001b[0;32m---> 73\u001b[0m \u001b[43msock\u001b[49m\u001b[38;5;241;43m.\u001b[39;49m\u001b[43mconnect\u001b[49m\u001b[43m(\u001b[49m\u001b[43msa\u001b[49m\u001b[43m)\u001b[49m\n\u001b[1;32m     74\u001b[0m \u001b[38;5;66;03m# Break explicitly a reference cycle\u001b[39;00m\n\u001b[1;32m     75\u001b[0m err \u001b[38;5;241m=\u001b[39m \u001b[38;5;28;01mNone\u001b[39;00m\n",
      "\u001b[0;31mKeyboardInterrupt\u001b[0m: "
     ]
    },
    {
     "ename": "",
     "evalue": "",
     "output_type": "error",
     "traceback": [
      "\u001b[1;31mThe Kernel crashed while executing code in the current cell or a previous cell. \n",
      "\u001b[1;31mPlease review the code in the cell(s) to identify a possible cause of the failure. \n",
      "\u001b[1;31mClick <a href='https://aka.ms/vscodeJupyterKernelCrash'>here</a> for more info. \n",
      "\u001b[1;31mView Jupyter <a href='command:jupyter.viewOutput'>log</a> for further details."
     ]
    }
   ],
   "source": [
    "import importlib\n",
    "importlib.reload(enhanced_rag)\n",
    "\n",
    "# Judge model (good balance of cost/latency)\n",
    "RAGAS_JUDGE_MODEL = \"gpt-4o-mini\"\n",
    "\n",
    "# Env knobs used by ragas_evaluation.eval_one()\n",
    "import os\n",
    "os.environ.update({\n",
    "    \"RAGAS_BATCH\": \"50\",          \n",
    "    \"RAGAS_WORKERS\": \"2\",         \n",
    "    \"RAGAS_CTX_CAP\": \"5\",         \n",
    "    \"RAGAS_CTX_MAX_CHARS\": \"1800\",\n",
    "    \"RAGAS_LLM_TIMEOUT\": \"60\",    \n",
    "    \"RAGAS_LLM_RETRIES\": \"6\",     \n",
    "    \"RAGAS_SAMPLE_N\": \"200\",\n",
    "})\n",
    "\n",
    "\n",
    "summaries = []\n",
    "for tag, path in runs.items():\n",
    "    print(f\"--- RAGAs evaluating: {tag} ---\")\n",
    "    s = ragas_evaluation.eval_one(\n",
    "        results_json=str(path),\n",
    "        passages_csv=str(PASSAGES),\n",
    "        tag=tag,\n",
    "        out_dir=str(OUTDIR),\n",
    "        model_name=RAGAS_JUDGE_MODEL,\n",
    "    )\n",
    "    summaries.append(s)\n",
    "\n",
    "import pandas as pd\n",
    "pd.DataFrame(summaries).sort_values(\"tag\")"
   ]
  },
  {
   "cell_type": "code",
   "execution_count": 39,
   "id": "b9768373",
   "metadata": {},
   "outputs": [
    {
     "data": {
      "text/html": [
       "<div>\n",
       "<style scoped>\n",
       "    .dataframe tbody tr th:only-of-type {\n",
       "        vertical-align: middle;\n",
       "    }\n",
       "\n",
       "    .dataframe tbody tr th {\n",
       "        vertical-align: top;\n",
       "    }\n",
       "\n",
       "    .dataframe thead th {\n",
       "        text-align: right;\n",
       "    }\n",
       "</style>\n",
       "<table border=\"1\" class=\"dataframe\">\n",
       "  <thead>\n",
       "    <tr style=\"text-align: right;\">\n",
       "      <th></th>\n",
       "      <th>tag</th>\n",
       "      <th>n</th>\n",
       "      <th>faithfulness</th>\n",
       "      <th>context_precision</th>\n",
       "      <th>context_recall</th>\n",
       "      <th>answer_relevancy</th>\n",
       "      <th>ctx_cap</th>\n",
       "      <th>batch</th>\n",
       "      <th>judge</th>\n",
       "      <th>ctx_char_cap</th>\n",
       "    </tr>\n",
       "  </thead>\n",
       "  <tbody>\n",
       "    <tr>\n",
       "      <th>0</th>\n",
       "      <td>naive_top1_instruction</td>\n",
       "      <td>197</td>\n",
       "      <td>0.025079</td>\n",
       "      <td>0.023142</td>\n",
       "      <td>0.022790</td>\n",
       "      <td>0.612359</td>\n",
       "      <td>5</td>\n",
       "      <td>25</td>\n",
       "      <td>gpt-4o-mini</td>\n",
       "      <td>1800.0</td>\n",
       "    </tr>\n",
       "    <tr>\n",
       "      <th>1</th>\n",
       "      <td>naive_top1_persona</td>\n",
       "      <td>197</td>\n",
       "      <td>0.015881</td>\n",
       "      <td>0.025381</td>\n",
       "      <td>0.035533</td>\n",
       "      <td>0.641975</td>\n",
       "      <td>5</td>\n",
       "      <td>25</td>\n",
       "      <td>gpt-4o-mini</td>\n",
       "      <td>1800.0</td>\n",
       "    </tr>\n",
       "    <tr>\n",
       "      <th>2</th>\n",
       "      <td>naive_top1_cot</td>\n",
       "      <td>197</td>\n",
       "      <td>0.007050</td>\n",
       "      <td>0.032416</td>\n",
       "      <td>0.025804</td>\n",
       "      <td>0.700250</td>\n",
       "      <td>5</td>\n",
       "      <td>25</td>\n",
       "      <td>gpt-4o-mini</td>\n",
       "      <td>1800.0</td>\n",
       "    </tr>\n",
       "    <tr>\n",
       "      <th>3</th>\n",
       "      <td>enhanced_top5_persona_rerank</td>\n",
       "      <td>200</td>\n",
       "      <td>0.000000</td>\n",
       "      <td>0.000000</td>\n",
       "      <td>0.054167</td>\n",
       "      <td>0.288090</td>\n",
       "      <td>5</td>\n",
       "      <td>25</td>\n",
       "      <td>gpt-4o-mini</td>\n",
       "      <td>1800.0</td>\n",
       "    </tr>\n",
       "  </tbody>\n",
       "</table>\n",
       "</div>"
      ],
      "text/plain": [
       "                            tag    n  faithfulness  context_precision  \\\n",
       "0        naive_top1_instruction  197      0.025079           0.023142   \n",
       "1            naive_top1_persona  197      0.015881           0.025381   \n",
       "2                naive_top1_cot  197      0.007050           0.032416   \n",
       "3  enhanced_top5_persona_rerank  200      0.000000           0.000000   \n",
       "\n",
       "   context_recall  answer_relevancy  ctx_cap  batch        judge  ctx_char_cap  \n",
       "0        0.022790          0.612359        5     25  gpt-4o-mini        1800.0  \n",
       "1        0.035533          0.641975        5     25  gpt-4o-mini        1800.0  \n",
       "2        0.025804          0.700250        5     25  gpt-4o-mini        1800.0  \n",
       "3        0.054167          0.288090        5     25  gpt-4o-mini        1800.0  "
      ]
     },
     "execution_count": 39,
     "metadata": {},
     "output_type": "execute_result"
    }
   ],
   "source": [
    "summary_csv = OUTDIR / \"ragas_summary.csv\"\n",
    "\n",
    "summary_df = pd.read_csv(summary_csv)\n",
    "summary_df.sort_values([\"tag\"]).reset_index(drop=True)\n",
    "\n",
    "\n",
    "summary_df = summary_df[((summary_df['n'] > 100) & (~pd.isnull(summary_df['ctx_char_cap'])))]\n",
    "summary_df = summary_df.sort_values(['faithfulness', 'context_precision', 'context_recall', 'answer_relevancy'], ascending=False)\n",
    "summary_df = summary_df.drop_duplicates('tag').reset_index(drop=True)\n",
    "summary_df.to_csv(summary_csv, index=False)\n",
    "summary_df = summary_df.drop(['ctx_max_chars', 'sample_n'], axis = 1)\n",
    "summary_df"
   ]
  },
  {
   "cell_type": "code",
   "execution_count": null,
   "id": "79547384",
   "metadata": {},
   "outputs": [],
   "source": []
  }
 ],
 "metadata": {
  "kernelspec": {
   "display_name": "llm_env",
   "language": "python",
   "name": "python3"
  },
  "language_info": {
   "codemirror_mode": {
    "name": "ipython",
    "version": 3
   },
   "file_extension": ".py",
   "mimetype": "text/x-python",
   "name": "python",
   "nbconvert_exporter": "python",
   "pygments_lexer": "ipython3",
   "version": "3.10.18"
  }
 },
 "nbformat": 4,
 "nbformat_minor": 5
}
